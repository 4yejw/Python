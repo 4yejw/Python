{
 "cells": [
  {
   "cell_type": "markdown",
   "id": "678b425f",
   "metadata": {},
   "source": [
    "#### 10.5 다음과 같은 문장으로 된 lyrics라는 문자열이 있다. 이 문자열을 각 단어별로 구분한 후, 아래 실행 결과와 같이 이 단어와 이 단어의 길이 n에 대한 튜플 쌍으로 바꾸어 출력하여라.<br><br>(1) lyrics라는 문자열을  split()메소드로 구분하여 각 단어를 추출하여라. 이 리스트를 for문 안에서 반복하며 각 단어와 len()함수로 구한 단어의 길이를 튜플 쌍으로 만들어라."
   ]
  },
  {
   "cell_type": "code",
   "execution_count": 5,
   "id": "bba25ad8",
   "metadata": {},
   "outputs": [
    {
     "name": "stdout",
     "output_type": "stream",
     "text": [
      "[('Half', 4), ('of', 2), ('my', 2), ('heart', 5), ('is', 2), ('Havana', 6)]\n"
     ]
    }
   ],
   "source": [
    "lyrics = \"Half of my heart is Havana\"\n",
    "lst = list(lyrics.split())\n",
    "List = []\n",
    "for s in lst:\n",
    "    List.append((s,len(s)))\n",
    "print(List)"
   ]
  },
  {
   "cell_type": "markdown",
   "id": "bea8d9d8",
   "metadata": {},
   "source": [
    "#### (2) 리스트 축약 표현을 사용하여 구현하라."
   ]
  },
  {
   "cell_type": "code",
   "execution_count": 6,
   "id": "b5d37b93",
   "metadata": {},
   "outputs": [
    {
     "name": "stdout",
     "output_type": "stream",
     "text": [
      "[('Half', 4), ('of', 2), ('my', 2), ('heart', 5), ('is', 2), ('Havana', 6)]\n"
     ]
    }
   ],
   "source": [
    "lyrics = \"Half of my heart is Havana\"\n",
    "print([(s,len(s)) for s in lyrics.split()])"
   ]
  },
  {
   "cell_type": "markdown",
   "id": "1f9fc417",
   "metadata": {},
   "source": [
    "#### 10.6 다음과 같이 10개의 정수를 가진 n_list에서 12의 배수를 모두 찾아서 new_list라는 리스트에 저장하여라."
   ]
  },
  {
   "cell_type": "markdown",
   "id": "2c874279",
   "metadata": {},
   "source": [
    "(1) 이를 위하여 for문과 if조건식을 사용하여 문제를 해결하여라."
   ]
  },
  {
   "cell_type": "code",
   "execution_count": 10,
   "id": "acd420b3",
   "metadata": {},
   "outputs": [
    {
     "name": "stdout",
     "output_type": "stream",
     "text": [
      "n_list = [44, 66, 34, 24, 144, 98, 38, 568, 234, 345]\n",
      "new_list = [24, 144]\n"
     ]
    }
   ],
   "source": [
    "n_list = [44,66,34,24,144,98,38,568,234,345]\n",
    "new_list = []\n",
    "for i in n_list:\n",
    "    if i%12 ==0:\n",
    "        new_list.append(i)\n",
    "print(\"n_list =\",n_list)\n",
    "print(\"new_list =\",new_list)"
   ]
  },
  {
   "cell_type": "markdown",
   "id": "8febb4c5",
   "metadata": {},
   "source": [
    "(2) 이를 위하여 filter()함수와 람다 함수를 사용하여 문제를 해결하여라."
   ]
  },
  {
   "cell_type": "code",
   "execution_count": 12,
   "id": "00e2b98e",
   "metadata": {},
   "outputs": [
    {
     "name": "stdout",
     "output_type": "stream",
     "text": [
      "n_list = [44, 66, 34, 24, 144, 98, 38, 568, 234, 345]\n",
      "new_list = [24, 144]\n"
     ]
    }
   ],
   "source": [
    "n_list = [44,66,34,24,144,98,38,568,234,345]\n",
    "new_list = []\n",
    "for i in filter(lambda x:x%12==0,n_list):\n",
    "    new_list.append(i)\n",
    "print(\"n_list =\",n_list)\n",
    "print(\"new_list =\",new_list)"
   ]
  },
  {
   "cell_type": "markdown",
   "id": "579b6360",
   "metadata": {},
   "source": [
    "(3) 리스트 축약 표현을 이용하여 위의 문제를 해결하여라"
   ]
  },
  {
   "cell_type": "code",
   "execution_count": 13,
   "id": "df79892d",
   "metadata": {},
   "outputs": [
    {
     "name": "stdout",
     "output_type": "stream",
     "text": [
      "n_list = [44, 66, 34, 24, 144, 98, 38, 568, 234, 345]\n",
      "new_list = [24, 144]\n"
     ]
    }
   ],
   "source": [
    "n_list = [44,66,34,24,144,98,38,568,234,345]\n",
    "new_list = [x for x in n_list if x%12==0]\n",
    "print(\"n_list =\",n_list)\n",
    "print(\"new_list =\",new_list)"
   ]
  },
  {
   "cell_type": "markdown",
   "id": "41e4b2d5",
   "metadata": {},
   "source": [
    "#### 10.8 다음과 같이 6개의 숫자를 가진 n_list에서 최댓값과 최솟값을 출력하여라."
   ]
  },
  {
   "cell_type": "markdown",
   "id": "94215b04",
   "metadata": {},
   "source": [
    "(1) 이때 max()와 min()이라는 파이썬 내장함수를 사용하여라."
   ]
  },
  {
   "cell_type": "code",
   "execution_count": 14,
   "id": "1cc53259",
   "metadata": {},
   "outputs": [
    {
     "name": "stdout",
     "output_type": "stream",
     "text": [
      "최댓값 :  902.2\n",
      "최솟값 :  -887.1\n"
     ]
    }
   ],
   "source": [
    "n_list = [-22.3,29.44,902.2,45.7,-887.1,-56.3]\n",
    "print(\"최댓값 : \",max(n_list))\n",
    "print(\"최솟값 : \",min(n_list))"
   ]
  },
  {
   "cell_type": "markdown",
   "id": "0c8451fb",
   "metadata": {},
   "source": [
    "(2) max(), min()이라는 내장함수를 사용하지 말고, my_max(), my_min()이라는 함수를 직접 구현하여 최댓값과 최솟값을 출력하여라. 직접 구현한 함수의 내부는 for문과 if문을 이용하여 최댓값, 최솟값을 찾도록 하여라."
   ]
  },
  {
   "cell_type": "code",
   "execution_count": 2,
   "id": "4dbaa166",
   "metadata": {},
   "outputs": [
    {
     "name": "stdout",
     "output_type": "stream",
     "text": [
      "최댓값 :  902.2\n",
      "최솟값 :  -887.1\n"
     ]
    }
   ],
   "source": [
    "def my_max(L):\n",
    "    result = L[0]\n",
    "    for a in L:\n",
    "        if a>result:\n",
    "            result = a\n",
    "    return result\n",
    "\n",
    "def my_min(L):\n",
    "    result = L[0]\n",
    "    for a in L:\n",
    "        if a<result:\n",
    "            result = a\n",
    "    return result\n",
    "\n",
    "n_list = [-22.3,29.44,902.2,45.7,-887.1,-56.3]\n",
    "\n",
    "print(\"최댓값 : \",my_max(n_list))\n",
    "print(\"최솟값 : \",my_min(n_list))"
   ]
  },
  {
   "cell_type": "markdown",
   "id": "ed46a649",
   "metadata": {},
   "source": [
    "(3) reduce()함수와 조건식을 사용하여 최댓값, 최솟값을 출력하여라 (힌트: reduce()함수는 functools 모듈을 import하여야 사용할 수 있음)"
   ]
  },
  {
   "cell_type": "code",
   "execution_count": 8,
   "id": "90b16d3e",
   "metadata": {},
   "outputs": [
    {
     "name": "stdout",
     "output_type": "stream",
     "text": [
      "최댓값 :  902.2\n",
      "최솟값 :  -887.1\n"
     ]
    }
   ],
   "source": [
    "from functools import reduce\n",
    "\n",
    "n_list = [-22.3,29.44,902.2,45.7,-887.1,-56.3]\n",
    "\n",
    "print(\"최댓값 : \",reduce(lambda x,y:x if x>y else y ,n_list))\n",
    "print(\"최솟값 : \",reduce(lambda x,y:x if x<y else y,n_list))"
   ]
  },
  {
   "cell_type": "markdown",
   "id": "3b94d252",
   "metadata": {},
   "source": [
    "#### 4. 교재 620 문제 10.11 <br>['one','two','three','four']의 단어로 구성된 리스트에서 다음과 같이 각 단어의 첫글자를 대문자로 하는 리스트를 생성하시오."
   ]
  },
  {
   "cell_type": "markdown",
   "id": "42c807a1",
   "metadata": {},
   "source": [
    "(1)for 문과 슬라이싱, upper() 메소드를 사용하여 문제를 해결하여라."
   ]
  },
  {
   "cell_type": "code",
   "execution_count": 12,
   "id": "7d9419cd",
   "metadata": {},
   "outputs": [
    {
     "data": {
      "text/plain": [
       "['One', 'Two', 'Three', 'Four']"
      ]
     },
     "execution_count": 12,
     "metadata": {},
     "output_type": "execute_result"
    }
   ],
   "source": [
    "List = ['one','two','three','four']\n",
    "new_list = []\n",
    "for a in List:\n",
    "    new_list.append(a[0].upper()+a[1:])\n",
    "new_list"
   ]
  },
  {
   "cell_type": "markdown",
   "id": "29eb2986",
   "metadata": {},
   "source": [
    "(2) map()함수와 람다함수를 사용하여 문제를 해결하여라"
   ]
  },
  {
   "cell_type": "code",
   "execution_count": 13,
   "id": "51d7a8fc",
   "metadata": {},
   "outputs": [
    {
     "name": "stdout",
     "output_type": "stream",
     "text": [
      "['One', 'Two', 'Three', 'Four']\n"
     ]
    }
   ],
   "source": [
    "List = ['one','two','three','four']\n",
    "print(list(map(lambda x : x[0].upper()+x[1:],List)))"
   ]
  },
  {
   "cell_type": "markdown",
   "id": "b93b5984",
   "metadata": {},
   "source": [
    "(3) 리스트 축약 표현을 이용하여 문제를 해결하여라"
   ]
  },
  {
   "cell_type": "code",
   "execution_count": 14,
   "id": "9cbb6845",
   "metadata": {},
   "outputs": [
    {
     "name": "stdout",
     "output_type": "stream",
     "text": [
      "['One', 'Two', 'Three', 'Four']\n"
     ]
    }
   ],
   "source": [
    "List = ['one','two','three','four']\n",
    "print([x[0].upper()+x[1:] for x in List ])"
   ]
  },
  {
   "cell_type": "markdown",
   "id": "cd1ff018",
   "metadata": {},
   "source": [
    "#### 5. 교재 620 문제 10.14와 10.15<br> 다음과 같이 키:값의 항목을 가지는 fruits 딕셔너리를 '키 = 값' 형식으로 된 문자열의 리스트로 재구성하여라. 이 때 fruits.items()메소드를 이용하여 다음과 같이 키, 값으로 언팩이 가능하다.<br><br>"
   ]
  },
  {
   "cell_type": "markdown",
   "id": "016d1c27",
   "metadata": {},
   "source": [
    "(1) fruits 딕셔너리를 for 문을 사용하여 다음과 같은 리스트로 만든 후 출력하시오"
   ]
  },
  {
   "cell_type": "code",
   "execution_count": 28,
   "id": "3c30d29d",
   "metadata": {},
   "outputs": [
    {
     "data": {
      "text/plain": [
       "['Apple = 사과', 'Strawberry = 딸기', 'Peach = 복숭아', 'Grape = 포도']"
      ]
     },
     "execution_count": 28,
     "metadata": {},
     "output_type": "execute_result"
    }
   ],
   "source": [
    "fruits = {'Apple':'사과','Strawberry':'딸기','Peach':'복숭아','Grape':'포도'}\n",
    "List = []\n",
    "for a,b in fruits.items():\n",
    "    List.append(a+\" = \"+b)\n",
    "List"
   ]
  },
  {
   "cell_type": "markdown",
   "id": "6784f073",
   "metadata": {},
   "source": [
    "(2) fruits 딕셔너리를 map()함수와 람다함수를 사용하여 (1) 번과 같은 리스트로 만들어서 출력하시오"
   ]
  },
  {
   "cell_type": "code",
   "execution_count": 41,
   "id": "a54ffb31",
   "metadata": {},
   "outputs": [
    {
     "name": "stdout",
     "output_type": "stream",
     "text": [
      "['Apple = 사과', 'Strawberry = 딸기', 'Peach = 복숭아', 'Grape = 포도']\n"
     ]
    }
   ],
   "source": [
    "fruits = {'Apple':'사과','Strawberry':'딸기','Peach':'복숭아','Grape':'포도'}\n",
    "print(list(map(lambda item : item[0]+\" = \"+item[1],fruits.items())))"
   ]
  },
  {
   "cell_type": "markdown",
   "id": "fe826668",
   "metadata": {},
   "source": [
    "(3) fruits 딕셔너리를 리스트 축약 표현을 사용하여 (1)번과 같은 리스트로 만들어서 출력하시오."
   ]
  },
  {
   "cell_type": "code",
   "execution_count": 42,
   "id": "b3f85ad1",
   "metadata": {},
   "outputs": [
    {
     "name": "stdout",
     "output_type": "stream",
     "text": [
      "['Apple = 사과', 'Strawberry = 딸기', 'Peach = 복숭아', 'Grape = 포도']\n"
     ]
    }
   ],
   "source": [
    "fruits = {'Apple':'사과','Strawberry':'딸기','Peach':'복숭아','Grape':'포도'}\n",
    "print([a+\" = \"+b for a,b in fruits.items()])"
   ]
  },
  {
   "cell_type": "markdown",
   "id": "320b292d",
   "metadata": {},
   "source": [
    "#### 6. 교재 624 문제 10.20 <br>정수의 리스트 numbers가 다음과 같이 주어지면 앞에서부터 하나의 요소씩 얻을 수 있다. 주어진 리스트에서 처음으로 나타나는 홀수를 출력하는 프로그램을 작성해보라."
   ]
  },
  {
   "cell_type": "code",
   "execution_count": 78,
   "id": "a2470317",
   "metadata": {},
   "outputs": [
    {
     "name": "stdout",
     "output_type": "stream",
     "text": [
      "처음으로 나타나는 홀수는 : 3\n"
     ]
    }
   ],
   "source": [
    "def first_odd(List):\n",
    "    return next(iter([num for num in numbers if num % 2 == 1]), None)\n",
    "\n",
    "numbers = [2,8,6,4,3,1,4,6,2]\n",
    "print(\"처음으로 나타나는 홀수는 :\",first_odd(numbers))"
   ]
  }
 ],
 "metadata": {
  "kernelspec": {
   "display_name": "Python 3 (ipykernel)",
   "language": "python",
   "name": "python3"
  },
  "language_info": {
   "codemirror_mode": {
    "name": "ipython",
    "version": 3
   },
   "file_extension": ".py",
   "mimetype": "text/x-python",
   "name": "python",
   "nbconvert_exporter": "python",
   "pygments_lexer": "ipython3",
   "version": "3.11.4"
  }
 },
 "nbformat": 4,
 "nbformat_minor": 5
}
