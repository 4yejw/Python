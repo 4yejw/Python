{
 "cells": [
  {
   "cell_type": "markdown",
   "id": "b76fdd8f",
   "metadata": {},
   "source": [
    "#### 1. 교재 p.513 문제 8.5 <br>다음과 같이 1에서 10까지의 정수를 저장하는 number1to10.txt 파일의 파일 객체의 write()메소드와 for-in range()구문을 사용하여 작성하시오."
   ]
  },
  {
   "cell_type": "code",
   "execution_count": 2,
   "id": "5d7e6b8c",
   "metadata": {},
   "outputs": [],
   "source": [
    "f = open('number1to10','w')\n",
    "for i in range(1,11):\n",
    "    i = str(i)\n",
    "    f.write(i)\n",
    "    f.write('\\n')\n",
    "f.close()"
   ]
  },
  {
   "cell_type": "markdown",
   "id": "628a8463",
   "metadata": {},
   "source": [
    "#### 2. 교재 p. 514 문제 8.6 <br>8.5 의 number1to1.txt 파일을 읽어들인 다음, 사용자로부터 양의 정수 n을 입력으로 받아서 최초의 n번째 줄까지 화면에 출력하는 프로그램을 작성하시오."
   ]
  },
  {
   "cell_type": "code",
   "execution_count": 5,
   "id": "a25754f2",
   "metadata": {},
   "outputs": [
    {
     "name": "stdout",
     "output_type": "stream",
     "text": [
      "number1to10.txt 파일을 읽었습니다.\n",
      "몇 번째 라인까지 출력하시겠습니까:3\n",
      "1\n",
      "2\n",
      "3\n"
     ]
    }
   ],
   "source": [
    "f = open('number1to10','r')\n",
    "print(\"number1to10.txt 파일을 읽었습니다.\")\n",
    "for _ in range(int(input(\"몇 번째 라인까지 출력하시겠습니까:\"))):\n",
    "    l = f.readline()\n",
    "    print(l,end='')\n",
    "f.close()"
   ]
  },
  {
   "cell_type": "markdown",
   "id": "4e04cbb7",
   "metadata": {},
   "source": [
    "####  3. 교재 p. 515 문제 8.8 <br>다음과 같은 기능을 수행하는 파이썬 프로그램을 작성하여라.<br><br>(1) random 모듈의 randint() 메소드를 사용하여 1에서 1000까지의 임의의 정수를 10개 생성하여 random_numbers.txt 라는 이름의 파일로 저장하라. \n"
   ]
  },
  {
   "cell_type": "code",
   "execution_count": 2,
   "id": "e9dab5a0",
   "metadata": {},
   "outputs": [],
   "source": [
    "import random as rd\n",
    "f = open('random_numbers.txt','w')\n",
    "for _ in range(10):\n",
    "    f.write(str(rd.randint(1,1000)))\n",
    "    f.write('\\n')\n",
    "f.close()"
   ]
  },
  {
   "cell_type": "markdown",
   "id": "2194140b",
   "metadata": {},
   "source": [
    "#### (2) random_numbers.txt라는 파일로부터 숫자를 읽어들인 후 이들 중 짝수 값을 가지는 정수를 저장하는 random_even.txt 라는 파일을 생성하여라. "
   ]
  },
  {
   "cell_type": "code",
   "execution_count": 8,
   "id": "d29bbfbb",
   "metadata": {},
   "outputs": [],
   "source": [
    "f = open('random_numbers.txt','r')\n",
    "new_f = open('random_even.txt','w')\n",
    "while True:\n",
    "    line =f.readline()\n",
    "    if not line:\n",
    "        break\n",
    "    n = int(line)\n",
    "    if n%2==0 :\n",
    "        new_f.write(str(n))\n",
    "        new_f.write('\\n')\n",
    "f.close()\n",
    "new_f.close()"
   ]
  },
  {
   "cell_type": "markdown",
   "id": "90e09c53",
   "metadata": {},
   "source": [
    "#### (3) random_numbers.txt 라는 파일로부터 숫자를 읽어 들인 후 이들 중 홀수 값을 가지는 정수를 저장하는 random_odd.txt라는 파일을 생성하여라. "
   ]
  },
  {
   "cell_type": "code",
   "execution_count": 9,
   "id": "ab295011",
   "metadata": {},
   "outputs": [],
   "source": [
    "f = open('random_numbers.txt','r')\n",
    "new_f = open('random_odd.txt','w')\n",
    "while True:\n",
    "    line =f.readline()\n",
    "    if not line:\n",
    "        break\n",
    "    n = int(line)\n",
    "    if n%2==1 :\n",
    "        new_f.write(str(n))\n",
    "        new_f.write('\\n')\n",
    "f.close()\n",
    "new_f.close()"
   ]
  },
  {
   "cell_type": "markdown",
   "id": "fb0e3378",
   "metadata": {},
   "source": [
    "####  4. 교재 p. 515 문제 8.9 <br>x,y의 쌍으로 된 N개의 점이 있을때 이 점을 x 좌표가 증가하는 순서에 따라서 정렬하는 프로그램을 작성하여라. 만일 x좌표의 값이 같을 경우 y좌표가 증가하는 순서로 정렬하여라.<br><br>좌표는 다음과 같은 파일로 제공된다. 파일의 첫 행은 점의 개수를 나타내고, 이후 이 개수만큼의 행이 각각 좌표 하나를 의미하는 x와 y값을 갖게된다. "
   ]
  },
  {
   "cell_type": "code",
   "execution_count": 24,
   "id": "fb1b164c",
   "metadata": {},
   "outputs": [
    {
     "name": "stdout",
     "output_type": "stream",
     "text": [
      "2 4\n",
      "2 5\n",
      "4 6\n",
      "7 8\n",
      "9 6\n",
      "10 2\n"
     ]
    }
   ],
   "source": [
    "f = open('coord.txt','r')\n",
    "dot_count = int(f.readline())\n",
    "\n",
    "lst = list()\n",
    "for _ in range(dot_count):\n",
    "    s = f.readline()\n",
    "    x,y =map(int,s.split())\n",
    "    lst.append((x,y))\n",
    "f.close()\n",
    "\n",
    "lst.sort(reverse=True)\n",
    "for _ in range(dot_count):\n",
    "    print(*lst.pop())"
   ]
  },
  {
   "cell_type": "markdown",
   "id": "299e52ba",
   "metadata": {},
   "source": [
    "####  5. 교재 p. 562 문제 9.6, 9.7 (연결 문제) <br><br>9.6<br> 다음과 같은 기능을 가지는 클래스를 정의하고, 인스턴스를 생성하여라.<br> - 이름(name)과 나이(age)를 속성으로 가지는 Dog클래스를 정의하여라. <br>- 이름으로 ‘Mango’ 나이로 3의 값을 가지는 my_dog 인스턴스를 생성하여라. <br>- my_dog 의 이름과 나이를 다음과 같이 출력하여라. "
   ]
  },
  {
   "cell_type": "code",
   "execution_count": 26,
   "id": "f74e5508",
   "metadata": {},
   "outputs": [
    {
     "name": "stdout",
     "output_type": "stream",
     "text": [
      "my_dog의 이름은 Mango이고, 나이는 3살 입니다.\n"
     ]
    }
   ],
   "source": [
    "class Dog:\n",
    "    def __init__(self,name,age):\n",
    "        self.name = name\n",
    "        self.age = age\n",
    "    \n",
    "my_dog = Dog('Mango',3)\n",
    "print(\"my_dog의 이름은 {}이고, 나이는 {}살 입니다.\".format(my_dog.name,my_dog.age))"
   ]
  },
  {
   "cell_type": "markdown",
   "id": "39f91576",
   "metadata": {},
   "source": [
    "#### 9.7<br>9.6에서 정의한 Dog클래스에 대하여 문자열화 메소드 __str__()를 구현하여라 <br>print(my_dog)의 출력이 다음과 같이 나타나도록 하여라. "
   ]
  },
  {
   "cell_type": "code",
   "execution_count": 31,
   "id": "b9ae0571",
   "metadata": {},
   "outputs": [
    {
     "name": "stdout",
     "output_type": "stream",
     "text": [
      "이름은 Mango이고, 나이는 3살 입니다.\n"
     ]
    }
   ],
   "source": [
    "class Dog:\n",
    "    def __init__(self,name,age):\n",
    "        self.name = name\n",
    "        self.age = age\n",
    "    def __str__(self):\n",
    "        self.age = str(self.age)\n",
    "        return '이름은 '+self.name+'이고, 나이는 '+self.age+'살 입니다.'\n",
    "    \n",
    "my_dog = Dog('Mango',3)\n",
    "print(my_dog)\n",
    "        "
   ]
  },
  {
   "cell_type": "markdown",
   "id": "4b69c518",
   "metadata": {},
   "source": [
    "####  6. 교재 p. 563 문제 9.8 <br><br>다음과 같은 기능을 가지는 Counter클래스를 정의하고 c1, c2라는 이름의 인스턴스를 생성하여라. <br>- 이 클래스는 __number라는 속성값을 가짐. <br>- number를 매개변수로 가지는 __init__(self,number) 메소드를 가짐. number의 디폴트 매개변수 값은 0임. number가 100 이상 되거나 -1이하가 되면 0 값을 초기값으로 가짐.<br>- __number를 0 으로 초기화 하는 reset()메소드를 가짐<br>- __number를 1 증가시키는 inc()메소드를 가짐, __number가 100이상이 되면 0으로 초기화 됨<br>- __number를 1 감소시키는 dec()메소드를 가짐, __number가 -1이하가 되면 0으로 초기화 됨<br>- C(n)과 같이 n을 출력하는 __str__()특수 메소드를 가짐<br>이 인스턴스를 사용하여 다음 예제 1, 예제 2와 같은 코드를 작성하고 그 결과가 아래와 같이 나오도록 하시오."
   ]
  },
  {
   "cell_type": "code",
   "execution_count": 35,
   "id": "6cc17dc0",
   "metadata": {},
   "outputs": [
    {
     "name": "stdout",
     "output_type": "stream",
     "text": [
      "c1 =  C(11)\n"
     ]
    }
   ],
   "source": [
    "class Counter :\n",
    "    def __init__(self,number=0):\n",
    "        self.number = number\n",
    "        if self.number>=100 or self.number<=-1:\n",
    "            self.number=0\n",
    "    def __str__(self):\n",
    "        self.number = str(self.number)\n",
    "        return 'C('+self.number+')'\n",
    "    def reset(self):\n",
    "        self.number=0\n",
    "    def inc(self):\n",
    "        self.number+=1\n",
    "        if  self.number>=100:\n",
    "            self.number =0\n",
    "    def dec(self):\n",
    "        self.number-=1\n",
    "        if self.number <=-1:\n",
    "            self.number=0\n",
    "   \n",
    "c1 = Counter(10)\n",
    "c1.inc()\n",
    "print('c1 = ',c1)"
   ]
  },
  {
   "cell_type": "code",
   "execution_count": 36,
   "id": "8d110808",
   "metadata": {},
   "outputs": [
    {
     "name": "stdout",
     "output_type": "stream",
     "text": [
      "c2 =  C(1)\n",
      "c2 =  C(0)\n"
     ]
    }
   ],
   "source": [
    "class Counter :\n",
    "    def __init__(self,number=0):\n",
    "        self.number = number\n",
    "        if self.number>=100 or self.number<=-1:\n",
    "            self.number=0\n",
    "    def __str__(self):\n",
    "        self.number = str(self.number)\n",
    "        return 'C('+self.number+')'\n",
    "    def reset(self):\n",
    "        self.number=0\n",
    "    def inc(self):\n",
    "        self.number+=1\n",
    "        if  self.number>=100:\n",
    "            self.number =0\n",
    "    def dec(self):\n",
    "        self.number-=1\n",
    "        if self.number <=-1:\n",
    "            self.number=0\n",
    "   \n",
    "c2 = Counter()\n",
    "c2.inc()\n",
    "c2.inc()\n",
    "c2.dec()\n",
    "print('c2 = ',c2)\n",
    "c2.reset()\n",
    "print('c2 = ',c2)"
   ]
  }
 ],
 "metadata": {
  "kernelspec": {
   "display_name": "Python 3 (ipykernel)",
   "language": "python",
   "name": "python3"
  },
  "language_info": {
   "codemirror_mode": {
    "name": "ipython",
    "version": 3
   },
   "file_extension": ".py",
   "mimetype": "text/x-python",
   "name": "python",
   "nbconvert_exporter": "python",
   "pygments_lexer": "ipython3",
   "version": "3.11.4"
  }
 },
 "nbformat": 4,
 "nbformat_minor": 5
}
