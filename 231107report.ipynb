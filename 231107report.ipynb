{
 "cells": [
  {
   "cell_type": "markdown",
   "id": "356f1da9",
   "metadata": {},
   "source": [
    "### 1."
   ]
  },
  {
   "cell_type": "markdown",
   "id": "8ab2ec22",
   "metadata": {},
   "source": [
    "#### 0부터 1,000,000까지의 임의의 정수를 10개 연속적으로 출력하는 의사난수 함수 my_rand()를 생성하여라. <br>(1) 이 의사난수를 만들기 위한 계수 값과 식을 적으시오.\n"
   ]
  },
  {
   "cell_type": "code",
   "execution_count": 46,
   "id": "436536bf",
   "metadata": {},
   "outputs": [
    {
     "name": "stdout",
     "output_type": "stream",
     "text": [
      "426494\n",
      "271215\n",
      "895433\n",
      "265452\n",
      "898050\n",
      "773721\n",
      "76925\n",
      "346145\n",
      "516968\n",
      "708007\n"
     ]
    }
   ],
   "source": [
    "def my_rand(x):\n",
    "    x=(1103515245*x+12345)%1000001\n",
    "    return x\n",
    "\n",
    "X=100\n",
    "for _ in range(10):\n",
    "    X=my_rand(X)\n",
    "    print(X)"
   ]
  },
  {
   "cell_type": "markdown",
   "id": "f947567a",
   "metadata": {},
   "source": [
    "#### (2) 이 의사난수를 만들기 위한 초기 씨드 값으로 time 모듈의 time()함수를 사용하여 다시 코딩하시오 ( 힌트: time()값은 실수 값이므로 이를 정수로 변환하여 사용해야한다). 이번에는 0에서 1,000,000까지의 임의의 5개의 정수를 출력하고 이를 다음과 같이 2번 반복하여라."
   ]
  },
  {
   "cell_type": "code",
   "execution_count": 20,
   "id": "abcecc72",
   "metadata": {},
   "outputs": [
    {
     "name": "stdout",
     "output_type": "stream",
     "text": [
      "801945\n",
      "206222\n",
      "297842\n",
      "940777\n",
      "496987\n",
      "\n",
      "646978\n",
      "242583\n",
      "996410\n",
      "730270\n",
      "115223\n",
      "\n"
     ]
    }
   ],
   "source": [
    "import time\n",
    "def my_rand(x):\n",
    "    x=(1103515245*x+12345)%1000001\n",
    "    return x\n",
    "\n",
    "X=int(time.time())\n",
    "for _ in range(2):\n",
    "    for _ in range(5):\n",
    "        X=my_rand(X)\n",
    "        print(X)\n",
    "    print()"
   ]
  },
  {
   "cell_type": "markdown",
   "id": "0ed3428f",
   "metadata": {},
   "source": [
    "### 2."
   ]
  },
  {
   "cell_type": "markdown",
   "id": "0dd87e85",
   "metadata": {},
   "source": [
    "#### math 모듈을 사용하여 0도에서 180도까지 10도 단위로 sin,cos,tan값을 구하여 다음과 같이 출력하여라. "
   ]
  },
  {
   "cell_type": "code",
   "execution_count": 29,
   "id": "0ce4eb3c",
   "metadata": {},
   "outputs": [
    {
     "name": "stdout",
     "output_type": "stream",
     "text": [
      "sin(  0)= 0.000,cos(  0)= 1.000,tan(  0)= 0.000\n",
      "sin( 10)= 0.174,cos( 10)= 0.985,tan( 10)= 0.176\n",
      "sin( 20)= 0.342,cos( 20)= 0.940,tan( 20)= 0.364\n",
      "sin( 30)= 0.500,cos( 30)= 0.866,tan( 30)= 0.577\n",
      "sin( 40)= 0.643,cos( 40)= 0.766,tan( 40)= 0.839\n",
      "sin( 50)= 0.766,cos( 50)= 0.643,tan( 50)= 1.192\n",
      "sin( 60)= 0.866,cos( 60)= 0.500,tan( 60)= 1.732\n",
      "sin( 70)= 0.940,cos( 70)= 0.342,tan( 70)= 2.747\n",
      "sin( 80)= 0.985,cos( 80)= 0.174,tan( 80)= 5.671\n",
      "sin( 90)= 1.000,cos( 90)= 0.000,tan( 90)=16331239353195370.000\n",
      "sin(100)= 0.985,cos(100)=-0.174,tan(100)=-5.671\n",
      "sin(110)= 0.940,cos(110)=-0.342,tan(110)=-2.747\n",
      "sin(120)= 0.866,cos(120)=-0.500,tan(120)=-1.732\n",
      "sin(130)= 0.766,cos(130)=-0.643,tan(130)=-1.192\n",
      "sin(140)= 0.643,cos(140)=-0.766,tan(140)=-0.839\n",
      "sin(150)= 0.500,cos(150)=-0.866,tan(150)=-0.577\n",
      "sin(160)= 0.342,cos(160)=-0.940,tan(160)=-0.364\n",
      "sin(170)= 0.174,cos(170)=-0.985,tan(170)=-0.176\n",
      "sin(180)= 0.000,cos(180)=-1.000,tan(180)=-0.000\n"
     ]
    }
   ],
   "source": [
    "import math as m\n",
    "for i in range(0,181,10):\n",
    "    print(\"sin({:3})={:6.3f},cos({:3})={:6.3f},tan({:3})={:6.3f}\".format(i,m.sin(m.radians(i)),i,m.cos(m.radians(i)),i,m.tan(m.radians(i))))"
   ]
  },
  {
   "cell_type": "markdown",
   "id": "732796b9",
   "metadata": {},
   "source": [
    "## 3."
   ]
  },
  {
   "cell_type": "markdown",
   "id": "ee5a8a2a",
   "metadata": {},
   "source": [
    "#### 로미오와 줄리엣 두 사람이 가위바위보를 한다. 로미오와 줄리엣의 승부는 random 모듈의 randrange()를 통해서 생성한 난수를 바탕으로 한다. 출력 결과는 다음과 같이 로미오가 이기거나 줄리엣이 이기거나 비기는 결과가 나와야한다. "
   ]
  },
  {
   "cell_type": "code",
   "execution_count": null,
   "id": "388eb856",
   "metadata": {},
   "outputs": [],
   "source": [
    "import random as rd\n",
    "\n",
    "def RSP(num):\n",
    "    if num==0:\n",
    "        return \"가위\"\n",
    "    elif num==1:\n",
    "        return \"바위\"\n",
    "    else :\n",
    "        return \"보\"\n",
    "    \n",
    "rom = rd.randrange(-1,2)\n",
    "jul = rd.randrange(-1,2)\n",
    "\n",
    "print(\"로미오의 승부 : \",RSP(rom))\n",
    "print(\"줄리엣의 승부 : \",RSP(jul))\n",
    "\n",
    "if jul==rom:\n",
    "    print(\"비겼습니다\")\n",
    "elif RSP(rom)==\"가위\":\n",
    "    if RSP(jul)==\"보\":\n",
    "        print(\"로미오가 이겼습니다\")\n",
    "    else:\n",
    "        print(\"줄리엣이 이겼습니다\")\n",
    "elif RSP(rom)==\"바위\":\n",
    "    if RSP(jul)==\"보\":\n",
    "        print(\"줄리엣이 이겼습니다\")\n",
    "    else:\n",
    "        print(\"로미오가 이겼습니다\")\n",
    "else:\n",
    "    if RSP(jul)==\"가위\":\n",
    "        print(\"줄리엣이 이겼습니다\")\n",
    "    else:\n",
    "        print(\"로미오가 이겼습니다\")\n",
    "    "
   ]
  },
  {
   "cell_type": "markdown",
   "id": "393f8668",
   "metadata": {},
   "source": [
    "## 4."
   ]
  },
  {
   "cell_type": "markdown",
   "id": "a04b79f0",
   "metadata": {},
   "source": [
    "#### 랜덤 숫자 맞추기 게임 프로그램을 작성하라. 먼저 랜덤하게 1~20까지의 숫자 x를 하나 생성시키고 사용자는 숫자를 하나씩 입력하면서 생성된 숫자 x와 비교해 큰지 작은지를 보고 숫자를 맞춰가는 게임이다. 컴퓨터는 사용자가 입력한 숫자가 정답보다 큰지 작은지를 알려주어야한다. 그리고 사용자가 시도를 할 때마다 시도한 횟수가 n에 저장되도록 한다. 만일 입력한 숫자와 x가 일치하면 “정답입니다!”라는 메시지를 출력한다. 이때 3번 이하로 입력하여 숫자를 맞추면 “n번만에 맞춘 당신은 천재!” 3번이상 6번 이하로 입력하여 숫자를 맞추면 “n번 만에 맞추다니 쩝쩝…” 이라고 출력하라. "
   ]
  },
  {
   "cell_type": "code",
   "execution_count": 71,
   "id": "058472ec",
   "metadata": {},
   "outputs": [
    {
     "name": "stdout",
     "output_type": "stream",
     "text": [
      "1~20까지의 숫자를 입력하세요:1\n",
      "1 보다 큽니다!\n",
      "1~20까지의 숫자를 입력하세요:2\n",
      "2 보다 큽니다!\n",
      "1~20까지의 숫자를 입력하세요:3\n",
      "3 보다 큽니다!\n",
      "1~20까지의 숫자를 입력하세요:4\n",
      "4 보다 큽니다!\n",
      "1~20까지의 숫자를 입력하세요:5\n",
      "5 보다 큽니다!\n",
      "1~20까지의 숫자를 입력하세요:6\n",
      "6 보다 큽니다!\n",
      "1~20까지의 숫자를 입력하세요:7\n",
      "7 보다 큽니다!\n",
      "1~20까지의 숫자를 입력하세요:8\n",
      "8 보다 큽니다!\n",
      "1~20까지의 숫자를 입력하세요:9\n",
      "9 보다 큽니다!\n",
      "1~20까지의 숫자를 입력하세요:10\n",
      "정답입니다!\n",
      "10 번만에 맞추다니 쩝쩝...\n"
     ]
    }
   ],
   "source": [
    "import random as rd\n",
    "x = rd.randrange(1,20)\n",
    "count=1\n",
    "while True:\n",
    "    user = int(input(\"1~20까지의 숫자를 입력하세요:\"))\n",
    "    if user == x:\n",
    "        print(\"정답입니다!\")\n",
    "        if count<3:\n",
    "            print(count,\"번만에 맞춘 당신은 천재!\")\n",
    "        elif count>=3 and count<=6:\n",
    "            print(count,\"번만에 맞추셨네요. 잘했어요^^\")\n",
    "        else:\n",
    "            print(count,\"번만에 맞추다니 쩝쩝...\")\n",
    "        break\n",
    "    elif user>x:\n",
    "        print(user,\"보다 작습니다!\")\n",
    "    else:\n",
    "        print(user,\"보다 큽니다!\")\n",
    "    count+=1\n"
   ]
  },
  {
   "cell_type": "markdown",
   "id": "fca05995",
   "metadata": {},
   "source": [
    "## 5."
   ]
  },
  {
   "cell_type": "markdown",
   "id": "40181f16",
   "metadata": {},
   "source": [
    "#### 첨부한 파일 “movies.csv”를 이용해 다음의 과정을 실행하시오.<br>⑴ pandas 라이브러리를 import 후 “movies.csv”를 읽어 들여 Dataframe movies에 저장하고 앞과 뒤의 자료 10개씩 보이시오.\n"
   ]
  },
  {
   "cell_type": "code",
   "execution_count": 77,
   "id": "af898c05",
   "metadata": {},
   "outputs": [],
   "source": [
    "import pandas as pd\n",
    "Dataframe_movies= pd.read_csv(\"movies.csv\")"
   ]
  },
  {
   "cell_type": "code",
   "execution_count": 78,
   "id": "b1d8c2e1",
   "metadata": {},
   "outputs": [
    {
     "data": {
      "text/html": [
       "<div>\n",
       "<style scoped>\n",
       "    .dataframe tbody tr th:only-of-type {\n",
       "        vertical-align: middle;\n",
       "    }\n",
       "\n",
       "    .dataframe tbody tr th {\n",
       "        vertical-align: top;\n",
       "    }\n",
       "\n",
       "    .dataframe thead th {\n",
       "        text-align: right;\n",
       "    }\n",
       "</style>\n",
       "<table border=\"1\" class=\"dataframe\">\n",
       "  <thead>\n",
       "    <tr style=\"text-align: right;\">\n",
       "      <th></th>\n",
       "      <th>Rank</th>\n",
       "      <th>Title</th>\n",
       "      <th>Studio</th>\n",
       "      <th>Gross</th>\n",
       "      <th>Year</th>\n",
       "    </tr>\n",
       "  </thead>\n",
       "  <tbody>\n",
       "    <tr>\n",
       "      <th>0</th>\n",
       "      <td>1</td>\n",
       "      <td>Avengers: Endgame</td>\n",
       "      <td>Buena Vista</td>\n",
       "      <td>$2,796.30</td>\n",
       "      <td>2019</td>\n",
       "    </tr>\n",
       "    <tr>\n",
       "      <th>1</th>\n",
       "      <td>2</td>\n",
       "      <td>Avatar</td>\n",
       "      <td>Fox</td>\n",
       "      <td>$2,789.70</td>\n",
       "      <td>2009</td>\n",
       "    </tr>\n",
       "    <tr>\n",
       "      <th>2</th>\n",
       "      <td>3</td>\n",
       "      <td>Titanic</td>\n",
       "      <td>Paramount</td>\n",
       "      <td>$2,187.50</td>\n",
       "      <td>1997</td>\n",
       "    </tr>\n",
       "    <tr>\n",
       "      <th>3</th>\n",
       "      <td>4</td>\n",
       "      <td>Star Wars: The Force Awakens</td>\n",
       "      <td>Buena Vista</td>\n",
       "      <td>$2,068.20</td>\n",
       "      <td>2015</td>\n",
       "    </tr>\n",
       "    <tr>\n",
       "      <th>4</th>\n",
       "      <td>5</td>\n",
       "      <td>Avengers: Infinity War</td>\n",
       "      <td>Buena Vista</td>\n",
       "      <td>$2,048.40</td>\n",
       "      <td>2018</td>\n",
       "    </tr>\n",
       "    <tr>\n",
       "      <th>5</th>\n",
       "      <td>6</td>\n",
       "      <td>Jurassic World</td>\n",
       "      <td>Universal</td>\n",
       "      <td>$1,671.70</td>\n",
       "      <td>2015</td>\n",
       "    </tr>\n",
       "    <tr>\n",
       "      <th>6</th>\n",
       "      <td>7</td>\n",
       "      <td>Marvel's The Avengers</td>\n",
       "      <td>Buena Vista</td>\n",
       "      <td>$1,518.80</td>\n",
       "      <td>2012</td>\n",
       "    </tr>\n",
       "    <tr>\n",
       "      <th>7</th>\n",
       "      <td>8</td>\n",
       "      <td>Furious 7</td>\n",
       "      <td>Universal</td>\n",
       "      <td>$1,516.00</td>\n",
       "      <td>2015</td>\n",
       "    </tr>\n",
       "    <tr>\n",
       "      <th>8</th>\n",
       "      <td>9</td>\n",
       "      <td>Avengers: Age of Ultron</td>\n",
       "      <td>Buena Vista</td>\n",
       "      <td>$1,405.40</td>\n",
       "      <td>2015</td>\n",
       "    </tr>\n",
       "    <tr>\n",
       "      <th>9</th>\n",
       "      <td>10</td>\n",
       "      <td>Black Panther</td>\n",
       "      <td>Buena Vista</td>\n",
       "      <td>$1,346.90</td>\n",
       "      <td>2018</td>\n",
       "    </tr>\n",
       "  </tbody>\n",
       "</table>\n",
       "</div>"
      ],
      "text/plain": [
       "   Rank                         Title       Studio       Gross  Year\n",
       "0     1             Avengers: Endgame  Buena Vista  $2,796.30   2019\n",
       "1     2                        Avatar          Fox  $2,789.70   2009\n",
       "2     3                       Titanic    Paramount  $2,187.50   1997\n",
       "3     4  Star Wars: The Force Awakens  Buena Vista  $2,068.20   2015\n",
       "4     5        Avengers: Infinity War  Buena Vista  $2,048.40   2018\n",
       "5     6                Jurassic World    Universal  $1,671.70   2015\n",
       "6     7         Marvel's The Avengers  Buena Vista  $1,518.80   2012\n",
       "7     8                     Furious 7    Universal  $1,516.00   2015\n",
       "8     9       Avengers: Age of Ultron  Buena Vista  $1,405.40   2015\n",
       "9    10                 Black Panther  Buena Vista  $1,346.90   2018"
      ]
     },
     "execution_count": 78,
     "metadata": {},
     "output_type": "execute_result"
    }
   ],
   "source": [
    "Dataframe_movies.head(10)"
   ]
  },
  {
   "cell_type": "code",
   "execution_count": 79,
   "id": "6aa8def6",
   "metadata": {},
   "outputs": [
    {
     "data": {
      "text/html": [
       "<div>\n",
       "<style scoped>\n",
       "    .dataframe tbody tr th:only-of-type {\n",
       "        vertical-align: middle;\n",
       "    }\n",
       "\n",
       "    .dataframe tbody tr th {\n",
       "        vertical-align: top;\n",
       "    }\n",
       "\n",
       "    .dataframe thead th {\n",
       "        text-align: right;\n",
       "    }\n",
       "</style>\n",
       "<table border=\"1\" class=\"dataframe\">\n",
       "  <thead>\n",
       "    <tr style=\"text-align: right;\">\n",
       "      <th></th>\n",
       "      <th>Rank</th>\n",
       "      <th>Title</th>\n",
       "      <th>Studio</th>\n",
       "      <th>Gross</th>\n",
       "      <th>Year</th>\n",
       "    </tr>\n",
       "  </thead>\n",
       "  <tbody>\n",
       "    <tr>\n",
       "      <th>772</th>\n",
       "      <td>773</td>\n",
       "      <td>Fun with Dick and Jane</td>\n",
       "      <td>Sony</td>\n",
       "      <td>$202.00</td>\n",
       "      <td>2005</td>\n",
       "    </tr>\n",
       "    <tr>\n",
       "      <th>773</th>\n",
       "      <td>774</td>\n",
       "      <td>Teenage Mutant Ninja Turtles</td>\n",
       "      <td>New Line</td>\n",
       "      <td>$202.00</td>\n",
       "      <td>1990</td>\n",
       "    </tr>\n",
       "    <tr>\n",
       "      <th>774</th>\n",
       "      <td>775</td>\n",
       "      <td>Kindergarten Cop</td>\n",
       "      <td>Universal</td>\n",
       "      <td>$202.00</td>\n",
       "      <td>1990</td>\n",
       "    </tr>\n",
       "    <tr>\n",
       "      <th>775</th>\n",
       "      <td>776</td>\n",
       "      <td>Straight Outta Compton</td>\n",
       "      <td>Universal</td>\n",
       "      <td>$201.60</td>\n",
       "      <td>2015</td>\n",
       "    </tr>\n",
       "    <tr>\n",
       "      <th>776</th>\n",
       "      <td>777</td>\n",
       "      <td>21 Jump Street</td>\n",
       "      <td>Sony</td>\n",
       "      <td>$201.60</td>\n",
       "      <td>2012</td>\n",
       "    </tr>\n",
       "    <tr>\n",
       "      <th>777</th>\n",
       "      <td>778</td>\n",
       "      <td>Yogi Bear</td>\n",
       "      <td>Warner Brothers</td>\n",
       "      <td>$201.60</td>\n",
       "      <td>2010</td>\n",
       "    </tr>\n",
       "    <tr>\n",
       "      <th>778</th>\n",
       "      <td>779</td>\n",
       "      <td>Garfield: The Movie</td>\n",
       "      <td>Fox</td>\n",
       "      <td>$200.80</td>\n",
       "      <td>2004</td>\n",
       "    </tr>\n",
       "    <tr>\n",
       "      <th>779</th>\n",
       "      <td>780</td>\n",
       "      <td>Cats &amp; Dogs</td>\n",
       "      <td>Warner Brothers</td>\n",
       "      <td>$200.70</td>\n",
       "      <td>2001</td>\n",
       "    </tr>\n",
       "    <tr>\n",
       "      <th>780</th>\n",
       "      <td>781</td>\n",
       "      <td>The Hunt for Red October</td>\n",
       "      <td>Paramount</td>\n",
       "      <td>$200.50</td>\n",
       "      <td>1990</td>\n",
       "    </tr>\n",
       "    <tr>\n",
       "      <th>781</th>\n",
       "      <td>782</td>\n",
       "      <td>Valkyrie</td>\n",
       "      <td>MGM</td>\n",
       "      <td>$200.30</td>\n",
       "      <td>2008</td>\n",
       "    </tr>\n",
       "  </tbody>\n",
       "</table>\n",
       "</div>"
      ],
      "text/plain": [
       "     Rank                         Title           Studio    Gross  Year\n",
       "772   773        Fun with Dick and Jane             Sony  $202.00  2005\n",
       "773   774  Teenage Mutant Ninja Turtles         New Line  $202.00  1990\n",
       "774   775              Kindergarten Cop        Universal  $202.00  1990\n",
       "775   776        Straight Outta Compton        Universal  $201.60  2015\n",
       "776   777                21 Jump Street             Sony  $201.60  2012\n",
       "777   778                     Yogi Bear  Warner Brothers  $201.60  2010\n",
       "778   779           Garfield: The Movie              Fox  $200.80  2004\n",
       "779   780                   Cats & Dogs  Warner Brothers  $200.70  2001\n",
       "780   781      The Hunt for Red October        Paramount  $200.50  1990\n",
       "781   782                      Valkyrie              MGM  $200.30  2008"
      ]
     },
     "execution_count": 79,
     "metadata": {},
     "output_type": "execute_result"
    }
   ],
   "source": [
    "Dataframe_movies.tail(10)"
   ]
  },
  {
   "cell_type": "markdown",
   "id": "4239b0a1",
   "metadata": {},
   "source": [
    "#### ⑵ movies의 행과 열의 수 및 cell의 총 갯수를 출력하시오."
   ]
  },
  {
   "cell_type": "code",
   "execution_count": 83,
   "id": "40cc2834",
   "metadata": {},
   "outputs": [
    {
     "name": "stdout",
     "output_type": "stream",
     "text": [
      "행의 수:  782\n",
      "열의 수:  5\n",
      "셀의 총 갯수:  3910\n"
     ]
    }
   ],
   "source": [
    "print(\"행의 수: \",Dataframe_movies.shape[0])\n",
    "print(\"열의 수: \",Dataframe_movies.shape[1])\n",
    "print(\"셀의 총 갯수: \",Dataframe_movies.shape[0]*Dataframe_movies.shape[1])"
   ]
  },
  {
   "cell_type": "markdown",
   "id": "8d4ff801",
   "metadata": {},
   "source": [
    "####   ⑶ movies의 자료형을 보이시오."
   ]
  },
  {
   "cell_type": "code",
   "execution_count": 85,
   "id": "3ebc11ea",
   "metadata": {},
   "outputs": [
    {
     "data": {
      "text/plain": [
       "Rank       int64\n",
       "Title     object\n",
       "Studio    object\n",
       "Gross     object\n",
       "Year       int64\n",
       "dtype: object"
      ]
     },
     "execution_count": 85,
     "metadata": {},
     "output_type": "execute_result"
    }
   ],
   "source": [
    "Dataframe_movies.dtypes"
   ]
  },
  {
   "cell_type": "markdown",
   "id": "1384e032",
   "metadata": {},
   "source": [
    "####   ⑷ movies의 500번째 자료를 보이시오."
   ]
  },
  {
   "cell_type": "code",
   "execution_count": 88,
   "id": "8c7c34ec",
   "metadata": {},
   "outputs": [
    {
     "data": {
      "text/plain": [
       "Rank                              500\n",
       "Title     Maze Runner: The Death Cure\n",
       "Studio                            Fox\n",
       "Gross                         $288.30\n",
       "Year                             2018\n",
       "Name: 499, dtype: object"
      ]
     },
     "execution_count": 88,
     "metadata": {},
     "output_type": "execute_result"
    }
   ],
   "source": [
    "Dataframe_movies.iloc[499,:]"
   ]
  },
  {
   "cell_type": "markdown",
   "id": "a4b96f63",
   "metadata": {},
   "source": [
    "####   ⑸ 영화 제목(Title)에 “Forrest Gump”이 있는 행을 출력하시오."
   ]
  },
  {
   "cell_type": "code",
   "execution_count": 93,
   "id": "a9d6b895",
   "metadata": {},
   "outputs": [
    {
     "data": {
      "text/html": [
       "<div>\n",
       "<style scoped>\n",
       "    .dataframe tbody tr th:only-of-type {\n",
       "        vertical-align: middle;\n",
       "    }\n",
       "\n",
       "    .dataframe tbody tr th {\n",
       "        vertical-align: top;\n",
       "    }\n",
       "\n",
       "    .dataframe thead th {\n",
       "        text-align: right;\n",
       "    }\n",
       "</style>\n",
       "<table border=\"1\" class=\"dataframe\">\n",
       "  <thead>\n",
       "    <tr style=\"text-align: right;\">\n",
       "      <th></th>\n",
       "      <th>Rank</th>\n",
       "      <th>Title</th>\n",
       "      <th>Studio</th>\n",
       "      <th>Gross</th>\n",
       "      <th>Year</th>\n",
       "    </tr>\n",
       "  </thead>\n",
       "  <tbody>\n",
       "    <tr>\n",
       "      <th>118</th>\n",
       "      <td>119</td>\n",
       "      <td>Forrest Gump</td>\n",
       "      <td>Paramount</td>\n",
       "      <td>$677.90</td>\n",
       "      <td>1994</td>\n",
       "    </tr>\n",
       "  </tbody>\n",
       "</table>\n",
       "</div>"
      ],
      "text/plain": [
       "     Rank         Title     Studio    Gross  Year\n",
       "118   119  Forrest Gump  Paramount  $677.90  1994"
      ]
     },
     "execution_count": 93,
     "metadata": {},
     "output_type": "execute_result"
    }
   ],
   "source": [
    "Dataframe_movies[:][Dataframe_movies[\"Title\"]==\"Forrest Gump\"]"
   ]
  },
  {
   "cell_type": "markdown",
   "id": "2459e555",
   "metadata": {},
   "source": [
    "####   ⑹ 영화 상영 연도(Year)를 기준으로 하여 내림차순으로 정렬하고 앞 10개의 자료를 보이시오."
   ]
  },
  {
   "cell_type": "code",
   "execution_count": 96,
   "id": "1110632d",
   "metadata": {},
   "outputs": [
    {
     "data": {
      "text/html": [
       "<div>\n",
       "<style scoped>\n",
       "    .dataframe tbody tr th:only-of-type {\n",
       "        vertical-align: middle;\n",
       "    }\n",
       "\n",
       "    .dataframe tbody tr th {\n",
       "        vertical-align: top;\n",
       "    }\n",
       "\n",
       "    .dataframe thead th {\n",
       "        text-align: right;\n",
       "    }\n",
       "</style>\n",
       "<table border=\"1\" class=\"dataframe\">\n",
       "  <thead>\n",
       "    <tr style=\"text-align: right;\">\n",
       "      <th></th>\n",
       "      <th>Rank</th>\n",
       "      <th>Title</th>\n",
       "      <th>Studio</th>\n",
       "      <th>Gross</th>\n",
       "      <th>Year</th>\n",
       "    </tr>\n",
       "  </thead>\n",
       "  <tbody>\n",
       "    <tr>\n",
       "      <th>0</th>\n",
       "      <td>1</td>\n",
       "      <td>Avengers: Endgame</td>\n",
       "      <td>Buena Vista</td>\n",
       "      <td>$2,796.30</td>\n",
       "      <td>2019</td>\n",
       "    </tr>\n",
       "    <tr>\n",
       "      <th>457</th>\n",
       "      <td>458</td>\n",
       "      <td>John Wick: Chapter 3 - Parabellum</td>\n",
       "      <td>Lionsgate</td>\n",
       "      <td>$304.70</td>\n",
       "      <td>2019</td>\n",
       "    </tr>\n",
       "    <tr>\n",
       "      <th>113</th>\n",
       "      <td>114</td>\n",
       "      <td>The Wandering Earth</td>\n",
       "      <td>China Film Corporation</td>\n",
       "      <td>$699.80</td>\n",
       "      <td>2019</td>\n",
       "    </tr>\n",
       "    <tr>\n",
       "      <th>197</th>\n",
       "      <td>198</td>\n",
       "      <td>Toy Story 4</td>\n",
       "      <td>Buena Vista</td>\n",
       "      <td>$519.80</td>\n",
       "      <td>2019</td>\n",
       "    </tr>\n",
       "    <tr>\n",
       "      <th>198</th>\n",
       "      <td>199</td>\n",
       "      <td>How to Train Your Dragon: The Hidden World</td>\n",
       "      <td>Universal</td>\n",
       "      <td>$519.80</td>\n",
       "      <td>2019</td>\n",
       "    </tr>\n",
       "    <tr>\n",
       "      <th>262</th>\n",
       "      <td>263</td>\n",
       "      <td>Pokemon Detective Pikachu</td>\n",
       "      <td>Warner Brothers</td>\n",
       "      <td>$427.50</td>\n",
       "      <td>2019</td>\n",
       "    </tr>\n",
       "    <tr>\n",
       "      <th>285</th>\n",
       "      <td>286</td>\n",
       "      <td>Alita: Battle Angel</td>\n",
       "      <td>Fox</td>\n",
       "      <td>$404.90</td>\n",
       "      <td>2019</td>\n",
       "    </tr>\n",
       "    <tr>\n",
       "      <th>314</th>\n",
       "      <td>315</td>\n",
       "      <td>Godzilla: King of the Monsters</td>\n",
       "      <td>Warner Brothers</td>\n",
       "      <td>$378.10</td>\n",
       "      <td>2019</td>\n",
       "    </tr>\n",
       "    <tr>\n",
       "      <th>339</th>\n",
       "      <td>340</td>\n",
       "      <td>Shazam!</td>\n",
       "      <td>Warner Brothers</td>\n",
       "      <td>$364.10</td>\n",
       "      <td>2019</td>\n",
       "    </tr>\n",
       "    <tr>\n",
       "      <th>368</th>\n",
       "      <td>369</td>\n",
       "      <td>Dumbo</td>\n",
       "      <td>Buena Vista</td>\n",
       "      <td>$351.80</td>\n",
       "      <td>2019</td>\n",
       "    </tr>\n",
       "  </tbody>\n",
       "</table>\n",
       "</div>"
      ],
      "text/plain": [
       "     Rank                                       Title                  Studio  \\\n",
       "0       1                           Avengers: Endgame             Buena Vista   \n",
       "457   458           John Wick: Chapter 3 - Parabellum               Lionsgate   \n",
       "113   114                         The Wandering Earth  China Film Corporation   \n",
       "197   198                                 Toy Story 4             Buena Vista   \n",
       "198   199  How to Train Your Dragon: The Hidden World               Universal   \n",
       "262   263                   Pokemon Detective Pikachu         Warner Brothers   \n",
       "285   286                         Alita: Battle Angel                     Fox   \n",
       "314   315              Godzilla: King of the Monsters         Warner Brothers   \n",
       "339   340                                     Shazam!         Warner Brothers   \n",
       "368   369                                       Dumbo             Buena Vista   \n",
       "\n",
       "          Gross  Year  \n",
       "0    $2,796.30   2019  \n",
       "457     $304.70  2019  \n",
       "113     $699.80  2019  \n",
       "197     $519.80  2019  \n",
       "198     $519.80  2019  \n",
       "262     $427.50  2019  \n",
       "285     $404.90  2019  \n",
       "314     $378.10  2019  \n",
       "339     $364.10  2019  \n",
       "368     $351.80  2019  "
      ]
     },
     "execution_count": 96,
     "metadata": {},
     "output_type": "execute_result"
    }
   ],
   "source": [
    "Dataframe_movies.sort_values(by='Year', ascending=False).head(10)"
   ]
  },
  {
   "cell_type": "markdown",
   "id": "e35d6e24",
   "metadata": {},
   "source": [
    "####   ⑺ 영화 제작사(Studio)는 오름차순, 영화 상영 연도(Year)는 내림차순으로 정렬하고 마지막 10개의 자료를 보이시오. "
   ]
  },
  {
   "cell_type": "code",
   "execution_count": 104,
   "id": "79b3a299",
   "metadata": {},
   "outputs": [
    {
     "data": {
      "text/html": [
       "<div>\n",
       "<style scoped>\n",
       "    .dataframe tbody tr th:only-of-type {\n",
       "        vertical-align: middle;\n",
       "    }\n",
       "\n",
       "    .dataframe tbody tr th {\n",
       "        vertical-align: top;\n",
       "    }\n",
       "\n",
       "    .dataframe thead th {\n",
       "        text-align: right;\n",
       "    }\n",
       "</style>\n",
       "<table border=\"1\" class=\"dataframe\">\n",
       "  <thead>\n",
       "    <tr style=\"text-align: right;\">\n",
       "      <th></th>\n",
       "      <th>Rank</th>\n",
       "      <th>Title</th>\n",
       "      <th>Studio</th>\n",
       "      <th>Gross</th>\n",
       "      <th>Year</th>\n",
       "    </tr>\n",
       "  </thead>\n",
       "  <tbody>\n",
       "    <tr>\n",
       "      <th>451</th>\n",
       "      <td>452</td>\n",
       "      <td>Close Encounters of the Third Kind</td>\n",
       "      <td>Columbia</td>\n",
       "      <td>$306.90</td>\n",
       "      <td>1977</td>\n",
       "    </tr>\n",
       "    <tr>\n",
       "      <th>90</th>\n",
       "      <td>91</td>\n",
       "      <td>Star Wars</td>\n",
       "      <td>Fox</td>\n",
       "      <td>$775.40</td>\n",
       "      <td>1977</td>\n",
       "    </tr>\n",
       "    <tr>\n",
       "      <th>629</th>\n",
       "      <td>630</td>\n",
       "      <td>Saturday Night Fever</td>\n",
       "      <td>Paramount</td>\n",
       "      <td>$237.10</td>\n",
       "      <td>1977</td>\n",
       "    </tr>\n",
       "    <tr>\n",
       "      <th>227</th>\n",
       "      <td>228</td>\n",
       "      <td>Jaws</td>\n",
       "      <td>Universal</td>\n",
       "      <td>$470.70</td>\n",
       "      <td>1975</td>\n",
       "    </tr>\n",
       "    <tr>\n",
       "      <th>251</th>\n",
       "      <td>252</td>\n",
       "      <td>The Exorcist</td>\n",
       "      <td>Warner Brothers</td>\n",
       "      <td>$441.30</td>\n",
       "      <td>1973</td>\n",
       "    </tr>\n",
       "    <tr>\n",
       "      <th>603</th>\n",
       "      <td>604</td>\n",
       "      <td>The Godfather</td>\n",
       "      <td>Paramount</td>\n",
       "      <td>$245.10</td>\n",
       "      <td>1972</td>\n",
       "    </tr>\n",
       "    <tr>\n",
       "      <th>754</th>\n",
       "      <td>755</td>\n",
       "      <td>The Jungle Book</td>\n",
       "      <td>Buena Vista</td>\n",
       "      <td>$205.80</td>\n",
       "      <td>1967</td>\n",
       "    </tr>\n",
       "    <tr>\n",
       "      <th>707</th>\n",
       "      <td>708</td>\n",
       "      <td>101 Dalmatians</td>\n",
       "      <td>Buena Vista</td>\n",
       "      <td>$215.90</td>\n",
       "      <td>1961</td>\n",
       "    </tr>\n",
       "    <tr>\n",
       "      <th>539</th>\n",
       "      <td>540</td>\n",
       "      <td>Bambi</td>\n",
       "      <td>RKO</td>\n",
       "      <td>$267.40</td>\n",
       "      <td>1942</td>\n",
       "    </tr>\n",
       "    <tr>\n",
       "      <th>287</th>\n",
       "      <td>288</td>\n",
       "      <td>Gone with the Wind</td>\n",
       "      <td>MGM</td>\n",
       "      <td>$402.40</td>\n",
       "      <td>1939</td>\n",
       "    </tr>\n",
       "  </tbody>\n",
       "</table>\n",
       "</div>"
      ],
      "text/plain": [
       "     Rank                               Title           Studio    Gross  Year\n",
       "451   452  Close Encounters of the Third Kind         Columbia  $306.90  1977\n",
       "90     91                           Star Wars              Fox  $775.40  1977\n",
       "629   630                Saturday Night Fever        Paramount  $237.10  1977\n",
       "227   228                                Jaws        Universal  $470.70  1975\n",
       "251   252                        The Exorcist  Warner Brothers  $441.30  1973\n",
       "603   604                       The Godfather        Paramount  $245.10  1972\n",
       "754   755                     The Jungle Book      Buena Vista  $205.80  1967\n",
       "707   708                      101 Dalmatians      Buena Vista  $215.90  1961\n",
       "539   540                               Bambi              RKO  $267.40  1942\n",
       "287   288                  Gone with the Wind              MGM  $402.40  1939"
      ]
     },
     "execution_count": 104,
     "metadata": {},
     "output_type": "execute_result"
    }
   ],
   "source": [
    "df = Dataframe_movies.sort_values(by='Studio')\n",
    "df = Dataframe_movies.sort_values(by='Year',ascending=False)\n",
    "df.tail(10)"
   ]
  },
  {
   "cell_type": "markdown",
   "id": "d7f3fa1d",
   "metadata": {},
   "source": [
    "####   ⑻ 2015년에 상영된 영화 중에서 제작사가 “Universal”인 영화를 보이시오."
   ]
  },
  {
   "cell_type": "code",
   "execution_count": 147,
   "id": "8939934f",
   "metadata": {},
   "outputs": [
    {
     "data": {
      "text/plain": [
       "5              Jurassic World\n",
       "7                   Furious 7\n",
       "18                    Minions\n",
       "164      Fifty Shades of Grey\n",
       "503           Pitch Perfect 2\n",
       "701                     Ted 2\n",
       "765                   Everest\n",
       "775    Straight Outta Compton\n",
       "Name: Title, dtype: object"
      ]
     },
     "execution_count": 147,
     "metadata": {},
     "output_type": "execute_result"
    }
   ],
   "source": [
    "df = Dataframe_movies.loc[(Dataframe_movies.Studio==\"Universal\")&(Dataframe_movies.Year==2015),'Title']\n",
    "df"
   ]
  },
  {
   "cell_type": "markdown",
   "id": "13773d09",
   "metadata": {},
   "source": [
    "####  ⑼ 2015년에 상영된 영화 또는 제작사가 “Universal”인 영화를 보이시오."
   ]
  },
  {
   "cell_type": "code",
   "execution_count": 157,
   "id": "0e2ab87a",
   "metadata": {},
   "outputs": [
    {
     "data": {
      "text/plain": [
       "3        Star Wars: The Force Awakens\n",
       "5                      Jurassic World\n",
       "7                           Furious 7\n",
       "8             Avengers: Age of Ultron\n",
       "12     Jurassic World: Fallen Kingdom\n",
       "                    ...              \n",
       "762                      The Break-Up\n",
       "765                           Everest\n",
       "771                       Patch Adams\n",
       "774                  Kindergarten Cop\n",
       "775            Straight Outta Compton\n",
       "Name: Title, Length: 140, dtype: object"
      ]
     },
     "execution_count": 157,
     "metadata": {},
     "output_type": "execute_result"
    }
   ],
   "source": [
    "df = Dataframe_movies.loc[(Dataframe_movies.Studio==\"Universal\")|(Dataframe_movies.Year==2015),\"Title\"]\n",
    "df"
   ]
  },
  {
   "cell_type": "markdown",
   "id": "67e08ef1",
   "metadata": {},
   "source": [
    "####  ⑽ 1975년 이전에 상영된 영화를 보이시오."
   ]
  },
  {
   "cell_type": "code",
   "execution_count": 158,
   "id": "5f27c615",
   "metadata": {},
   "outputs": [
    {
     "data": {
      "text/plain": [
       "251          The Exorcist\n",
       "287    Gone with the Wind\n",
       "539                 Bambi\n",
       "603         The Godfather\n",
       "707        101 Dalmatians\n",
       "754       The Jungle Book\n",
       "Name: Title, dtype: object"
      ]
     },
     "execution_count": 158,
     "metadata": {},
     "output_type": "execute_result"
    }
   ],
   "source": [
    "df = Dataframe_movies.loc[Dataframe_movies.Year<1975,\"Title\"]\n",
    "df"
   ]
  },
  {
   "cell_type": "markdown",
   "id": "819cc569",
   "metadata": {},
   "source": [
    "####  ⑾ 1980년에서 1990년도 사이에 상영된 영화를 보이시오."
   ]
  },
  {
   "cell_type": "code",
   "execution_count": 159,
   "id": "eaa58bf7",
   "metadata": {},
   "outputs": [
    {
     "data": {
      "text/plain": [
       "83              E.T.: The Extra-Terrestrial\n",
       "221                      Return of the Jedi\n",
       "224      Indiana Jones and the Last Crusade\n",
       "277                                  Batman\n",
       "299                 Raiders of the Lost Ark\n",
       "310                      Back to the Future\n",
       "356                                 Top Gun\n",
       "360                                Rain Man\n",
       "402    Indiana Jones and the Temple of Doom\n",
       "405              Back to the Future Part II\n",
       "409                 Who Framed Roger Rabbit\n",
       "412                        Crocodile Dundee\n",
       "427                        Fatal Attraction\n",
       "431                       Beverly Hills Cop\n",
       "466                                Rocky IV\n",
       "468              Rambo: First Blood Part II\n",
       "472                    Beverly Hills Cop II\n",
       "479                      Look Who's Talking\n",
       "484                            Ghostbusters\n",
       "495                       Coming to America\n",
       "622                     Crocodile Dundee II\n",
       "635                      Dead Poets Society\n",
       "659                         Lethal Weapon 2\n",
       "661                           Out of Africa\n",
       "678                Honey, I Shrunk the Kids\n",
       "703                                   Twins\n",
       "710                         Ghostbusters II\n",
       "715                           Dirty Dancing\n",
       "737                      The Little Mermaid\n",
       "Name: Title, dtype: object"
      ]
     },
     "execution_count": 159,
     "metadata": {},
     "output_type": "execute_result"
    }
   ],
   "source": [
    "df = Dataframe_movies.loc[(Dataframe_movies.Year<1990)&(Dataframe_movies.Year>1980),\"Title\"]\n",
    "df"
   ]
  },
  {
   "cell_type": "markdown",
   "id": "153b0d4f",
   "metadata": {},
   "source": [
    "####   ⑿ 영화의 제목에 “dark”가 포함된 영화를 보이시오(대소문자 구별 없음)."
   ]
  },
  {
   "cell_type": "code",
   "execution_count": 165,
   "id": "6d95c94c",
   "metadata": {},
   "outputs": [
    {
     "data": {
      "text/html": [
       "<div>\n",
       "<style scoped>\n",
       "    .dataframe tbody tr th:only-of-type {\n",
       "        vertical-align: middle;\n",
       "    }\n",
       "\n",
       "    .dataframe tbody tr th {\n",
       "        vertical-align: top;\n",
       "    }\n",
       "\n",
       "    .dataframe thead th {\n",
       "        text-align: right;\n",
       "    }\n",
       "</style>\n",
       "<table border=\"1\" class=\"dataframe\">\n",
       "  <thead>\n",
       "    <tr style=\"text-align: right;\">\n",
       "      <th></th>\n",
       "      <th>Rank</th>\n",
       "      <th>Title</th>\n",
       "      <th>Studio</th>\n",
       "      <th>Gross</th>\n",
       "      <th>Year</th>\n",
       "    </tr>\n",
       "  </thead>\n",
       "  <tbody>\n",
       "    <tr>\n",
       "      <th>22</th>\n",
       "      <td>23</td>\n",
       "      <td>Transformers: Dark of the Moon</td>\n",
       "      <td>Paramount</td>\n",
       "      <td>$1,123.80</td>\n",
       "      <td>2011</td>\n",
       "    </tr>\n",
       "    <tr>\n",
       "      <th>26</th>\n",
       "      <td>27</td>\n",
       "      <td>The Dark Knight Rises</td>\n",
       "      <td>Warner Brothers</td>\n",
       "      <td>$1,084.90</td>\n",
       "      <td>2012</td>\n",
       "    </tr>\n",
       "    <tr>\n",
       "      <th>38</th>\n",
       "      <td>39</td>\n",
       "      <td>The Dark Knight</td>\n",
       "      <td>Warner Brothers</td>\n",
       "      <td>$1,004.90</td>\n",
       "      <td>2008</td>\n",
       "    </tr>\n",
       "    <tr>\n",
       "      <th>131</th>\n",
       "      <td>132</td>\n",
       "      <td>Thor: The Dark World</td>\n",
       "      <td>Buena Vista</td>\n",
       "      <td>$644.60</td>\n",
       "      <td>2013</td>\n",
       "    </tr>\n",
       "    <tr>\n",
       "      <th>231</th>\n",
       "      <td>232</td>\n",
       "      <td>Star Trek Into Darkness</td>\n",
       "      <td>Paramount</td>\n",
       "      <td>$467.40</td>\n",
       "      <td>2013</td>\n",
       "    </tr>\n",
       "    <tr>\n",
       "      <th>308</th>\n",
       "      <td>309</td>\n",
       "      <td>Fifty Shades Darker</td>\n",
       "      <td>Universal</td>\n",
       "      <td>$381.50</td>\n",
       "      <td>2017</td>\n",
       "    </tr>\n",
       "    <tr>\n",
       "      <th>599</th>\n",
       "      <td>600</td>\n",
       "      <td>Dark Shadows</td>\n",
       "      <td>Warner Brothers</td>\n",
       "      <td>$245.50</td>\n",
       "      <td>2012</td>\n",
       "    </tr>\n",
       "    <tr>\n",
       "      <th>602</th>\n",
       "      <td>603</td>\n",
       "      <td>Dark Phoenix</td>\n",
       "      <td>Fox</td>\n",
       "      <td>$245.10</td>\n",
       "      <td>2019</td>\n",
       "    </tr>\n",
       "  </tbody>\n",
       "</table>\n",
       "</div>"
      ],
      "text/plain": [
       "     Rank                           Title           Studio       Gross  Year\n",
       "22     23  Transformers: Dark of the Moon        Paramount  $1,123.80   2011\n",
       "26     27           The Dark Knight Rises  Warner Brothers  $1,084.90   2012\n",
       "38     39                 The Dark Knight  Warner Brothers  $1,004.90   2008\n",
       "131   132            Thor: The Dark World      Buena Vista     $644.60  2013\n",
       "231   232         Star Trek Into Darkness        Paramount     $467.40  2013\n",
       "308   309             Fifty Shades Darker        Universal     $381.50  2017\n",
       "599   600                    Dark Shadows  Warner Brothers     $245.50  2012\n",
       "602   603                    Dark Phoenix              Fox     $245.10  2019"
      ]
     },
     "execution_count": 165,
     "metadata": {},
     "output_type": "execute_result"
    }
   ],
   "source": [
    "df = Dataframe_movies[Dataframe_movies['Title'].str.contains('Dark')]\n",
    "df"
   ]
  },
  {
   "cell_type": "code",
   "execution_count": 187,
   "id": "bf23e3ff",
   "metadata": {},
   "outputs": [
    {
     "data": {
      "text/plain": [
       "dtype('float64')"
      ]
     },
     "execution_count": 187,
     "metadata": {},
     "output_type": "execute_result"
    }
   ],
   "source": [
    "Dataframe_movies['Gross'].dtype"
   ]
  },
  {
   "cell_type": "markdown",
   "id": "450180d8",
   "metadata": {},
   "source": [
    "####   ⒀ 영화의 수익(Gross)에 대해 요약 통계량을 보이시오."
   ]
  },
  {
   "cell_type": "code",
   "execution_count": 189,
   "id": "778c980e",
   "metadata": {},
   "outputs": [
    {
     "data": {
      "text/plain": [
       "count     782.000000\n",
       "mean      439.030818\n",
       "std       293.850989\n",
       "min       200.300000\n",
       "25%       249.350000\n",
       "50%       341.150000\n",
       "75%       521.125000\n",
       "max      2796.300000\n",
       "Name: Gross, dtype: float64"
      ]
     },
     "execution_count": 189,
     "metadata": {},
     "output_type": "execute_result"
    }
   ],
   "source": [
    "Dataframe_movies[\"Gross\"].describe()"
   ]
  },
  {
   "cell_type": "markdown",
   "id": "2ea42187",
   "metadata": {},
   "source": [
    "####  ⒁ 영화 제작사별로 수익의 합계를 앞의 10개를 보이시오."
   ]
  },
  {
   "cell_type": "code",
   "execution_count": 252,
   "id": "a1a148cf",
   "metadata": {},
   "outputs": [
    {
     "data": {
      "text/plain": [
       "Studio\n",
       "Artisan                     248.6\n",
       "Buena Vista               73585.0\n",
       "CL                          228.1\n",
       "China Film Corporation      699.8\n",
       "Columbia                   1276.6\n",
       "Dimension                   488.7\n",
       "Dreamworks                12260.4\n",
       "FR                          385.3\n",
       "FUN                         358.0\n",
       "Focus                       205.8\n",
       "Name: Gross, dtype: float64"
      ]
     },
     "execution_count": 252,
     "metadata": {},
     "output_type": "execute_result"
    }
   ],
   "source": [
    "total = Dataframe_movies.groupby('Studio')['Gross'].sum()\n",
    "total.head(10)"
   ]
  },
  {
   "cell_type": "markdown",
   "id": "80c8c6e3",
   "metadata": {},
   "source": [
    "####  ⒂ 영화 제작사별로 수익의 합계를 내림차순으로 정렬하여 앞의 10개를 보이시오."
   ]
  },
  {
   "cell_type": "code",
   "execution_count": 251,
   "id": "59cc0413",
   "metadata": {},
   "outputs": [
    {
     "data": {
      "text/plain": [
       "Studio\n",
       "Buena Vista        73585.0\n",
       "Warner Brothers    58643.8\n",
       "Fox                50420.8\n",
       "Universal          44302.3\n",
       "Sony               32822.5\n",
       "Paramount          32486.0\n",
       "Dreamworks         12260.4\n",
       "Lionsgate          10033.2\n",
       "New Line            6584.8\n",
       "MGM                 3513.1\n",
       "Name: Gross, dtype: float64"
      ]
     },
     "execution_count": 251,
     "metadata": {},
     "output_type": "execute_result"
    }
   ],
   "source": [
    "total = Dataframe_movies.groupby('Studio')['Gross'].sum()\n",
    "total.sort_values(ascending=False).head(10)"
   ]
  },
  {
   "cell_type": "markdown",
   "id": "0295dfa0",
   "metadata": {},
   "source": [
    "#### 영화 제작사별로 수익의 최대, 최소, 평균 값, 최대평균 내림차순 앞 10개만"
   ]
  },
  {
   "cell_type": "code",
   "execution_count": 254,
   "id": "67681703",
   "metadata": {},
   "outputs": [
    {
     "data": {
      "text/html": [
       "<div>\n",
       "<style scoped>\n",
       "    .dataframe tbody tr th:only-of-type {\n",
       "        vertical-align: middle;\n",
       "    }\n",
       "\n",
       "    .dataframe tbody tr th {\n",
       "        vertical-align: top;\n",
       "    }\n",
       "\n",
       "    .dataframe thead th {\n",
       "        text-align: right;\n",
       "    }\n",
       "</style>\n",
       "<table border=\"1\" class=\"dataframe\">\n",
       "  <thead>\n",
       "    <tr style=\"text-align: right;\">\n",
       "      <th></th>\n",
       "      <th>max</th>\n",
       "      <th>min</th>\n",
       "      <th>sum</th>\n",
       "    </tr>\n",
       "    <tr>\n",
       "      <th>Studio</th>\n",
       "      <th></th>\n",
       "      <th></th>\n",
       "      <th></th>\n",
       "    </tr>\n",
       "  </thead>\n",
       "  <tbody>\n",
       "    <tr>\n",
       "      <th>Buena Vista</th>\n",
       "      <td>2796.3</td>\n",
       "      <td>202.4</td>\n",
       "      <td>73585.0</td>\n",
       "    </tr>\n",
       "    <tr>\n",
       "      <th>Warner Brothers</th>\n",
       "      <td>1341.7</td>\n",
       "      <td>200.7</td>\n",
       "      <td>58643.8</td>\n",
       "    </tr>\n",
       "    <tr>\n",
       "      <th>Fox</th>\n",
       "      <td>2789.7</td>\n",
       "      <td>200.8</td>\n",
       "      <td>50420.8</td>\n",
       "    </tr>\n",
       "    <tr>\n",
       "      <th>Universal</th>\n",
       "      <td>1671.7</td>\n",
       "      <td>201.6</td>\n",
       "      <td>44302.3</td>\n",
       "    </tr>\n",
       "    <tr>\n",
       "      <th>Sony</th>\n",
       "      <td>1108.6</td>\n",
       "      <td>201.6</td>\n",
       "      <td>32822.5</td>\n",
       "    </tr>\n",
       "    <tr>\n",
       "      <th>Paramount</th>\n",
       "      <td>2187.5</td>\n",
       "      <td>200.5</td>\n",
       "      <td>32486.0</td>\n",
       "    </tr>\n",
       "    <tr>\n",
       "      <th>Dreamworks</th>\n",
       "      <td>919.8</td>\n",
       "      <td>217.8</td>\n",
       "      <td>12260.4</td>\n",
       "    </tr>\n",
       "    <tr>\n",
       "      <th>Lionsgate</th>\n",
       "      <td>865.0</td>\n",
       "      <td>214.7</td>\n",
       "      <td>10033.2</td>\n",
       "    </tr>\n",
       "    <tr>\n",
       "      <th>New Line</th>\n",
       "      <td>1119.9</td>\n",
       "      <td>202.0</td>\n",
       "      <td>6584.8</td>\n",
       "    </tr>\n",
       "    <tr>\n",
       "      <th>MGM</th>\n",
       "      <td>432.0</td>\n",
       "      <td>200.3</td>\n",
       "      <td>3513.1</td>\n",
       "    </tr>\n",
       "  </tbody>\n",
       "</table>\n",
       "</div>"
      ],
      "text/plain": [
       "                    max    min      sum\n",
       "Studio                                 \n",
       "Buena Vista      2796.3  202.4  73585.0\n",
       "Warner Brothers  1341.7  200.7  58643.8\n",
       "Fox              2789.7  200.8  50420.8\n",
       "Universal        1671.7  201.6  44302.3\n",
       "Sony             1108.6  201.6  32822.5\n",
       "Paramount        2187.5  200.5  32486.0\n",
       "Dreamworks        919.8  217.8  12260.4\n",
       "Lionsgate         865.0  214.7  10033.2\n",
       "New Line         1119.9  202.0   6584.8\n",
       "MGM               432.0  200.3   3513.1"
      ]
     },
     "execution_count": 254,
     "metadata": {},
     "output_type": "execute_result"
    }
   ],
   "source": [
    "Group = Dataframe_movies.groupby('Studio')['Gross'].agg({'sum','max','min'})\n",
    "Group.sort_values(by='sum',ascending=False).head(10)"
   ]
  },
  {
   "cell_type": "markdown",
   "id": "a8b1862e",
   "metadata": {},
   "source": [
    "## 6."
   ]
  },
  {
   "cell_type": "markdown",
   "id": "8ef02ef1",
   "metadata": {},
   "source": [
    "#### 아래와 같이 입력된 pandas series가 있다. 아래 과정을 실시하고 그 결과를 보이시오.(문제를 풀기 전에 import numpy as np를 실행)<br>s = pd.Series([1, 2, 3, np.nan, 4, 5])<br>⑴ 결측치(np.nan)을 제외하면서 합을 구하시오(sum() 이용)."
   ]
  },
  {
   "cell_type": "code",
   "execution_count": 191,
   "id": "71643b62",
   "metadata": {},
   "outputs": [],
   "source": [
    "import numpy as np\n",
    "s = pd.Series([1, 2, 3, np.nan, 4, 5])"
   ]
  },
  {
   "cell_type": "code",
   "execution_count": 192,
   "id": "592313fd",
   "metadata": {},
   "outputs": [
    {
     "data": {
      "text/plain": [
       "0    1.0\n",
       "1    2.0\n",
       "2    3.0\n",
       "3    NaN\n",
       "4    4.0\n",
       "5    5.0\n",
       "dtype: float64"
      ]
     },
     "execution_count": 192,
     "metadata": {},
     "output_type": "execute_result"
    }
   ],
   "source": [
    "s"
   ]
  },
  {
   "cell_type": "markdown",
   "id": "6c6d884e",
   "metadata": {},
   "source": [
    "####   ⑵ 결측치(np.nan)을 포함하면서 합을 구하시오(sum() 이용)"
   ]
  },
  {
   "cell_type": "code",
   "execution_count": 195,
   "id": "c9bde9ea",
   "metadata": {},
   "outputs": [
    {
     "name": "stdout",
     "output_type": "stream",
     "text": [
      "nan\n"
     ]
    }
   ],
   "source": [
    "Sum = s.sum(skipna=False)\n",
    "print(Sum)"
   ]
  },
  {
   "cell_type": "markdown",
   "id": "c87d64ca",
   "metadata": {},
   "source": [
    "####   ⑶ 결측치(np.nan)을 포함하면서 누적합을 구하시오(cumsum() 이용)."
   ]
  },
  {
   "cell_type": "code",
   "execution_count": 197,
   "id": "e60ae2d0",
   "metadata": {},
   "outputs": [
    {
     "data": {
      "text/plain": [
       "0     1.0\n",
       "1     3.0\n",
       "2     6.0\n",
       "3     NaN\n",
       "4    10.0\n",
       "5    15.0\n",
       "dtype: float64"
      ]
     },
     "execution_count": 197,
     "metadata": {},
     "output_type": "execute_result"
    }
   ],
   "source": [
    "s.cumsum(skipna=False)"
   ]
  },
  {
   "cell_type": "code",
   "execution_count": 200,
   "id": "767f288f",
   "metadata": {},
   "outputs": [
    {
     "data": {
      "text/plain": [
       "3.0"
      ]
     },
     "execution_count": 200,
     "metadata": {},
     "output_type": "execute_result"
    }
   ],
   "source": [
    "s.mean() #평균"
   ]
  },
  {
   "cell_type": "code",
   "execution_count": 202,
   "id": "5076baf5",
   "metadata": {},
   "outputs": [
    {
     "data": {
      "text/plain": [
       "2.5"
      ]
     },
     "execution_count": 202,
     "metadata": {},
     "output_type": "execute_result"
    }
   ],
   "source": [
    "s.var() #분산"
   ]
  },
  {
   "cell_type": "code",
   "execution_count": 203,
   "id": "7a5b0163",
   "metadata": {},
   "outputs": [
    {
     "data": {
      "text/plain": [
       "5.0"
      ]
     },
     "execution_count": 203,
     "metadata": {},
     "output_type": "execute_result"
    }
   ],
   "source": [
    "s.max()"
   ]
  },
  {
   "cell_type": "code",
   "execution_count": 204,
   "id": "56aeb69b",
   "metadata": {},
   "outputs": [
    {
     "data": {
      "text/plain": [
       "1.0"
      ]
     },
     "execution_count": 204,
     "metadata": {},
     "output_type": "execute_result"
    }
   ],
   "source": [
    "s.min()"
   ]
  },
  {
   "cell_type": "markdown",
   "id": "cc51e02d",
   "metadata": {},
   "source": [
    "## 7."
   ]
  },
  {
   "cell_type": "markdown",
   "id": "1b833a12",
   "metadata": {},
   "source": [
    "#### 7. 첨부한 파일 “revolutionary_war.csv”를 아래 프로그램을 통해 읽고 다음의 과정을 실행하시오. <br>days_of_war = pd.read_csv(\"revolutionary_war.csv\", usecols = [\"Start Date\"],parse_dates=[\"Start Date\"], squeeze = True)<br>⑴ 요일을 반환하는 함수 day_of_week를 정의하고 아래와 같이 출력하시오. <br> (Hint : date.strftime() 메소드 이용)"
   ]
  },
  {
   "cell_type": "code",
   "execution_count": 310,
   "id": "5a1612cd",
   "metadata": {},
   "outputs": [
    {
     "name": "stdout",
     "output_type": "stream",
     "text": [
      "0       Thursday\n",
      "1      Wednesday\n",
      "2      Wednesday\n",
      "3      Wednesday\n",
      "4       Thursday\n",
      "         ...    \n",
      "227    Wednesday\n",
      "228       Friday\n",
      "229       Friday\n",
      "230       Friday\n",
      "231    Wednesday\n",
      "Name: Start Date, Length: 232, dtype: object\n"
     ]
    }
   ],
   "source": [
    "import pandas as pd\n",
    "\n",
    "days_of_war = pd.read_csv(\"revolutionary_war.csv\", usecols=[\"Start Date\"], parse_dates=[\"Start Date\"]).squeeze(\"columns\")\n",
    "\n",
    "def day_of_week(date):\n",
    "    if pd.notna(date):\n",
    "        return date.strftime(\"%A\")\n",
    "    else:\n",
    "        return \"Not a valid date\"\n",
    "\n",
    "days_of_war_weekday = days_of_war.apply(day_of_week)\n",
    "\n",
    "print(days_of_war_weekday)"
   ]
  },
  {
   "cell_type": "markdown",
   "id": "b484369d",
   "metadata": {},
   "source": [
    "#### ⑵ 아래와 같이 각 요일별 빈도를 출력하시오"
   ]
  },
  {
   "cell_type": "code",
   "execution_count": 311,
   "id": "a157a0d9",
   "metadata": {},
   "outputs": [
    {
     "name": "stdout",
     "output_type": "stream",
     "text": [
      "            Weekday  Frequency\n",
      "0          Saturday         39\n",
      "1            Friday         39\n",
      "2         Wednesday         32\n",
      "3          Thursday         31\n",
      "4            Sunday         31\n",
      "5           Tuesday         29\n",
      "6            Monday         27\n",
      "7  Not a valid date          4\n"
     ]
    }
   ],
   "source": [
    "days_of_war_weekday = days_of_war.apply(day_of_week)\n",
    "weekday_counts = days_of_war_weekday.value_counts().reset_index()\n",
    "weekday_counts.columns = [\"Weekday\", \"Frequency\"]\n",
    "\n",
    "print(weekday_counts)"
   ]
  }
 ],
 "metadata": {
  "kernelspec": {
   "display_name": "Python 3 (ipykernel)",
   "language": "python",
   "name": "python3"
  },
  "language_info": {
   "codemirror_mode": {
    "name": "ipython",
    "version": 3
   },
   "file_extension": ".py",
   "mimetype": "text/x-python",
   "name": "python",
   "nbconvert_exporter": "python",
   "pygments_lexer": "ipython3",
   "version": "3.11.4"
  }
 },
 "nbformat": 4,
 "nbformat_minor": 5
}
