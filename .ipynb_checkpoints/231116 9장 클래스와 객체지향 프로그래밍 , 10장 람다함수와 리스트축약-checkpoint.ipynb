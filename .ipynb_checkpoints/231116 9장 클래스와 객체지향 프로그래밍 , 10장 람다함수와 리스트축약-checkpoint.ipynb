{
 "cells": [
  {
   "cell_type": "markdown",
   "id": "23b4c2bf",
   "metadata": {},
   "source": [
    "### 9장 클래스와 객체지향 프로그래밍"
   ]
  },
  {
   "cell_type": "markdown",
   "id": "687bc62a",
   "metadata": {},
   "source": [
    "#### 예제1) 벡터의 크기 비교하기 <br>v1 > v2 특수 메소드를 구현하라<br>벡터의 크기는 각 성분값을 제곱하고 더한것을 제곱근 하여 구한다."
   ]
  },
  {
   "cell_type": "code",
   "execution_count": 8,
   "id": "b939ab91",
   "metadata": {},
   "outputs": [
    {
     "name": "stdout",
     "output_type": "stream",
     "text": [
      "True\n"
     ]
    }
   ],
   "source": [
    "class Vector2D:\n",
    "    def __init__(self,x,y):\n",
    "        self.__x = x\n",
    "        self.__y = y\n",
    "    def __gt__(self,other):\n",
    "        return (self.__x**2 + self.__y**2)**0.5 > (other.__x**2 + other.__y**2)**0.5\n",
    "    def __ge__(self,other):\n",
    "        return (self.__x**2 + self.__y**2)**0.5 >= (other.__x**2 + other.__y**2)**0.5\n",
    "    def __lt__(self,other):\n",
    "        return (self.__x**2 + self.__y**2)**0.5 < (other.__x**2 + other.__y**2)**0.5\n",
    "    def __le__(self,other):\n",
    "        return (self.__x**2 + self.__y**2)**0.5 <= (other.__x**2 + other.__y**2)**0.5\n",
    "        \n",
    "v1 = Vector2D(30,40)\n",
    "v2 = Vector2D(10,20)\n",
    "print(v1 > v2)"
   ]
  },
  {
   "cell_type": "markdown",
   "id": "f930868e",
   "metadata": {},
   "source": [
    "### 10장 람다함수와 리스트 축약"
   ]
  },
  {
   "cell_type": "markdown",
   "id": "028b73fe",
   "metadata": {},
   "source": [
    "#### 람다함수<br>람다함수 :1회용 함수를 만드는 것. 익명 함수라는 이름도 가짐<br>lambda x,y : x+y<br><br>lambda [ 매개변수, ] : [표현식,]"
   ]
  },
  {
   "cell_type": "code",
   "execution_count": 9,
   "id": "997869a9",
   "metadata": {},
   "outputs": [
    {
     "data": {
      "text/plain": [
       "300"
      ]
     },
     "execution_count": 9,
     "metadata": {},
     "output_type": "execute_result"
    }
   ],
   "source": [
    "add = lambda x,y : x+y   #람다함수\n",
    "add(100,200)"
   ]
  },
  {
   "cell_type": "code",
   "execution_count": 10,
   "id": "c501be7a",
   "metadata": {},
   "outputs": [
    {
     "data": {
      "text/plain": [
       "300"
      ]
     },
     "execution_count": 10,
     "metadata": {},
     "output_type": "execute_result"
    }
   ],
   "source": [
    "(lambda x,y:x+y)(100,200)  #인라인람다함수 "
   ]
  },
  {
   "cell_type": "markdown",
   "id": "1af4ecd8",
   "metadata": {},
   "source": [
    "#### 필터함수 : 조건에서 True인것만 뽑아온다 filter(함수, 반복가능한 객체) "
   ]
  },
  {
   "cell_type": "code",
   "execution_count": 12,
   "id": "dfd160e9",
   "metadata": {},
   "outputs": [
    {
     "name": "stdout",
     "output_type": "stream",
     "text": [
      "32\n",
      "39\n",
      "20\n"
     ]
    }
   ],
   "source": [
    "ages = [32,39,20,18,13]\n",
    "\n",
    "for a in filter(lambda X : X>=19,ages):  #람다함수가 필터의 역할을 한다\n",
    "    print(a)"
   ]
  },
  {
   "cell_type": "markdown",
   "id": "312df7da",
   "metadata": {},
   "source": [
    "#### string, range , 리스트, 튜플 : 반복가능한 객체만 람다, 필터함수를 쓰는것이 가능하다!"
   ]
  },
  {
   "cell_type": "code",
   "execution_count": 13,
   "id": "ffcadd4d",
   "metadata": {},
   "outputs": [
    {
     "name": "stdout",
     "output_type": "stream",
     "text": [
      "[-1, -3, -5]\n"
     ]
    }
   ],
   "source": [
    "n_list = [-1,0,1,2,-3,-5]\n",
    "minus_list = list(filter(lambda x : x< 0,n_list))\n",
    "print(minus_list)"
   ]
  },
  {
   "cell_type": "markdown",
   "id": "dfbafd46",
   "metadata": {},
   "source": [
    "#### 예제 2) 0~20난수 20개를 발생시켜서 짝수인것만 리스트로 만들어라"
   ]
  },
  {
   "cell_type": "code",
   "execution_count": 29,
   "id": "344a7b51",
   "metadata": {},
   "outputs": [
    {
     "name": "stdout",
     "output_type": "stream",
     "text": [
      "[14, 6, 18, 8, 0, 20, 12, 8, 20, 2]\n"
     ]
    }
   ],
   "source": [
    "import random as rd\n",
    "even_list = list(filter(lambda x : x%2==0,[rd.randint(0,20) for _ in range(20)] ))\n",
    "print(even_list)"
   ]
  },
  {
   "cell_type": "code",
   "execution_count": 36,
   "id": "deacae44",
   "metadata": {},
   "outputs": [
    {
     "name": "stdout",
     "output_type": "stream",
     "text": [
      "[ 0 18 10  6 15  5 19  9 13  0 13 18  6  8 19  0  5 15  9  3]\n"
     ]
    }
   ],
   "source": [
    "import numpy as np\n",
    "lst = np.random.randint(0,20,size=20) #랜덤으로 size개수만큼 뽑아서 리스트로 만들어줌\n",
    "print(lst)"
   ]
  },
  {
   "cell_type": "markdown",
   "id": "08dd5e3b",
   "metadata": {},
   "source": [
    "#### 맵 함수 map "
   ]
  },
  {
   "cell_type": "markdown",
   "id": "5f5c508c",
   "metadata": {},
   "source": [
    "#### map (함수, 반복가능 객체) "
   ]
  },
  {
   "cell_type": "code",
   "execution_count": 35,
   "id": "979aaf1d",
   "metadata": {},
   "outputs": [
    {
     "name": "stdout",
     "output_type": "stream",
     "text": [
      "[1, 4, 9, 16, 25, 36, 49]\n"
     ]
    }
   ],
   "source": [
    "a= [1,2,3,4,5,6,7]\n",
    "square_a = list(map(lambda x : x**2,a))\n",
    "print(square_a)"
   ]
  },
  {
   "cell_type": "markdown",
   "id": "c4e08189",
   "metadata": {},
   "source": [
    "#### n_list =  [10,20,30] 를 3배한 뒤 map() 함수에 넣은 결과를 출력하라"
   ]
  },
  {
   "cell_type": "code",
   "execution_count": 41,
   "id": "09d7e697",
   "metadata": {},
   "outputs": [
    {
     "name": "stdout",
     "output_type": "stream",
     "text": [
      "[30, 60, 90]\n"
     ]
    }
   ],
   "source": [
    "n_list = [10,20,30]\n",
    "print(list(map(lambda x : 3*x,n_list)))"
   ]
  },
  {
   "cell_type": "markdown",
   "id": "ff46b833",
   "metadata": {},
   "source": [
    "#### lambda함수를 사용하면 코드가 간결해진다. 다만 가독성이 떨어진다."
   ]
  },
  {
   "cell_type": "markdown",
   "id": "bc112f6b",
   "metadata": {},
   "source": [
    "### reduce함수 : 반복가능한 객체, functools를 사용해서 불러와야함, 재귀호출같은 역할을 함"
   ]
  },
  {
   "cell_type": "code",
   "execution_count": 43,
   "id": "08757afc",
   "metadata": {},
   "outputs": [
    {
     "name": "stdout",
     "output_type": "stream",
     "text": [
      "10\n"
     ]
    }
   ],
   "source": [
    "from functools import reduce\n",
    "a = [1,2,3,4]\n",
    "n = reduce(lambda x,y:x+y,a)\n",
    "print(n)"
   ]
  },
  {
   "cell_type": "markdown",
   "id": "76a91771",
   "metadata": {},
   "source": [
    "#### reduce()함수를 사용하여 1에서 100까지 정수의 합을 구하여라, 이때 range(1,101)을 입력으로 사용하라"
   ]
  },
  {
   "cell_type": "code",
   "execution_count": 48,
   "id": "76be885a",
   "metadata": {},
   "outputs": [
    {
     "name": "stdout",
     "output_type": "stream",
     "text": [
      "1에서 100까지의 합 : 5050\n"
     ]
    }
   ],
   "source": [
    "from functools import reduce\n",
    "print(\"1에서 100까지의 합 :\",reduce(lambda x,y:x+y,[x for x in range(1,101)]))"
   ]
  },
  {
   "cell_type": "markdown",
   "id": "f69e86b7",
   "metadata": {},
   "source": [
    "#### reduce()함수를 사용하여 10!을 구하여라, 이때 range(1,11)을 입력으로 사용하라"
   ]
  },
  {
   "cell_type": "code",
   "execution_count": 49,
   "id": "b06a36b8",
   "metadata": {},
   "outputs": [
    {
     "name": "stdout",
     "output_type": "stream",
     "text": [
      "10! = 3628800\n"
     ]
    }
   ],
   "source": [
    "from functools import reduce\n",
    "print(\"10! =\",reduce(lambda x,y:x*y,[x for x in range(1,11)]))"
   ]
  },
  {
   "cell_type": "markdown",
   "id": "85d0b8cb",
   "metadata": {},
   "source": [
    "### 리스트 축약 list comprehension"
   ]
  },
  {
   "cell_type": "markdown",
   "id": "30005274",
   "metadata": {},
   "source": [
    "#### [ 표현식 for 변수 in 반복자/연속열 if 조건식 ]"
   ]
  },
  {
   "cell_type": "code",
   "execution_count": 50,
   "id": "a7d6e209",
   "metadata": {},
   "outputs": [
    {
     "name": "stdout",
     "output_type": "stream",
     "text": [
      "cubic = [1, 8, 27, 64, 125, 216, 343, 512, 729, 1000]\n"
     ]
    }
   ],
   "source": [
    "print(\"cubic =\",[x**3 for x in range(1,11)])"
   ]
  },
  {
   "cell_type": "code",
   "execution_count": 51,
   "id": "4b52f115",
   "metadata": {},
   "outputs": [
    {
     "name": "stdout",
     "output_type": "stream",
     "text": [
      "1 2 3 4\n"
     ]
    }
   ],
   "source": [
    "lst = list(map(int,input().split()))"
   ]
  },
  {
   "cell_type": "code",
   "execution_count": 61,
   "id": "5370954b",
   "metadata": {},
   "outputs": [
    {
     "name": "stdout",
     "output_type": "stream",
     "text": [
      "2 x 1 = 2\n",
      "2 x 2 = 4\n",
      "2 x 3 = 6\n",
      "2 x 4 = 8\n",
      "2 x 5 = 10\n",
      "2 x 6 = 12\n",
      "2 x 7 = 14\n",
      "2 x 8 = 16\n",
      "2 x 9 = 18\n",
      "3 x 1 = 3\n",
      "3 x 2 = 6\n",
      "3 x 3 = 9\n",
      "3 x 4 = 12\n",
      "3 x 5 = 15\n",
      "3 x 6 = 18\n",
      "3 x 7 = 21\n",
      "3 x 8 = 24\n",
      "3 x 9 = 27\n",
      "4 x 1 = 4\n",
      "4 x 2 = 8\n",
      "4 x 3 = 12\n",
      "4 x 4 = 16\n",
      "4 x 5 = 20\n",
      "4 x 6 = 24\n",
      "4 x 7 = 28\n",
      "4 x 8 = 32\n",
      "4 x 9 = 36\n",
      "5 x 1 = 5\n",
      "5 x 2 = 10\n",
      "5 x 3 = 15\n",
      "5 x 4 = 20\n",
      "5 x 5 = 25\n",
      "5 x 6 = 30\n",
      "5 x 7 = 35\n",
      "5 x 8 = 40\n",
      "5 x 9 = 45\n",
      "6 x 1 = 6\n",
      "6 x 2 = 12\n",
      "6 x 3 = 18\n",
      "6 x 4 = 24\n",
      "6 x 5 = 30\n",
      "6 x 6 = 36\n",
      "6 x 7 = 42\n",
      "6 x 8 = 48\n",
      "6 x 9 = 54\n",
      "7 x 1 = 7\n",
      "7 x 2 = 14\n",
      "7 x 3 = 21\n",
      "7 x 4 = 28\n",
      "7 x 5 = 35\n",
      "7 x 6 = 42\n",
      "7 x 7 = 49\n",
      "7 x 8 = 56\n",
      "7 x 9 = 63\n",
      "8 x 1 = 8\n",
      "8 x 2 = 16\n",
      "8 x 3 = 24\n",
      "8 x 4 = 32\n",
      "8 x 5 = 40\n",
      "8 x 6 = 48\n",
      "8 x 7 = 56\n",
      "8 x 8 = 64\n",
      "8 x 9 = 72\n",
      "9 x 1 = 9\n",
      "9 x 2 = 18\n",
      "9 x 3 = 27\n",
      "9 x 4 = 36\n",
      "9 x 5 = 45\n",
      "9 x 6 = 54\n",
      "9 x 7 = 63\n",
      "9 x 8 = 72\n",
      "9 x 9 = 81\n"
     ]
    }
   ],
   "source": [
    "lst = [\"{} x {} = {}\".format(x,y,x*y) for x in range(2,10) for y in range(1,10)]\n",
    "for i in lst:\n",
    "    print(i)"
   ]
  },
  {
   "cell_type": "code",
   "execution_count": 65,
   "id": "74f3a8c3",
   "metadata": {},
   "outputs": [
    {
     "name": "stdout",
     "output_type": "stream",
     "text": [
      "2 3 4 5 6 7 8 9 10 12 14 15 16 18 20 21 24 25 27 28 30 32 35 36 40 42 45 48 49 54 56 63 64 72 81\n"
     ]
    }
   ],
   "source": [
    "lst = [x*y for x in range(2,10) for y in range(1,10)]\n",
    "print(*set(lst))"
   ]
  },
  {
   "cell_type": "markdown",
   "id": "b2028ccf",
   "metadata": {},
   "source": [
    "### 반복자iterator object  (반복가능 객체: 문자열 튜플 리스트 range)"
   ]
  },
  {
   "cell_type": "markdown",
   "id": "609b6206",
   "metadata": {},
   "source": [
    "#### next(반복자)함수 : 반복할것이 없으면 StopIteration이 나오며 종료 <br> 혹은 list에 정의되어있는 특수메소드 __next__()를 사용<br>iter() : 반복자로 만드는 함수 (반복가능 자료형만 가능)<br>"
   ]
  },
  {
   "cell_type": "markdown",
   "id": "8ede4b8b",
   "metadata": {},
   "source": [
    "#### for문은 객체의 next()메소드를 내부적으로 호출한다."
   ]
  },
  {
   "cell_type": "markdown",
   "id": "21cd87e3",
   "metadata": {},
   "source": [
    "### 반복자 클래스"
   ]
  },
  {
   "cell_type": "code",
   "execution_count": 66,
   "id": "0e766b61",
   "metadata": {},
   "outputs": [],
   "source": [
    "#__init__, __next__, __iter__"
   ]
  },
  {
   "cell_type": "code",
   "execution_count": 67,
   "id": "2e9ed5c4",
   "metadata": {},
   "outputs": [],
   "source": [
    "#__next__ \n",
    "\n",
    "#t = 반복자 "
   ]
  },
  {
   "cell_type": "markdown",
   "id": "ab82859d",
   "metadata": {},
   "source": [
    "#### 내장함수 min max sum all any ascii bool filter iter"
   ]
  },
  {
   "cell_type": "code",
   "execution_count": null,
   "id": "d3053766",
   "metadata": {},
   "outputs": [],
   "source": [
    "#아니 아스키코드 ;; 파이썬에서 'A' = 65 이거 어케함 "
   ]
  }
 ],
 "metadata": {
  "kernelspec": {
   "display_name": "Python 3 (ipykernel)",
   "language": "python",
   "name": "python3"
  },
  "language_info": {
   "codemirror_mode": {
    "name": "ipython",
    "version": 3
   },
   "file_extension": ".py",
   "mimetype": "text/x-python",
   "name": "python",
   "nbconvert_exporter": "python",
   "pygments_lexer": "ipython3",
   "version": "3.11.4"
  }
 },
 "nbformat": 4,
 "nbformat_minor": 5
}
