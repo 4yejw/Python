{
 "cells": [
  {
   "cell_type": "markdown",
   "id": "af72ae6e",
   "metadata": {},
   "source": [
    "### 231109 python lecture "
   ]
  },
  {
   "cell_type": "markdown",
   "id": "b5de0508",
   "metadata": {},
   "source": [
    "#### File Input Output"
   ]
  },
  {
   "cell_type": "markdown",
   "id": "07797fed",
   "metadata": {},
   "source": [
    "#### <파일 사용 절차><br><br> 1.파일 열기 : 파일이름과 경로를 이용해서 파일을 가져온다 <br> 2.사용 : read/write <br> 3.파일 닫기 "
   ]
  },
  {
   "cell_type": "markdown",
   "id": "336e36bb",
   "metadata": {},
   "source": [
    "#### 파일 저장은 HDD에 저장되는데 속도가 느리므로 버퍼를 사용하여 read, write는 버퍼에서 읽어와서 메모리에서 처리하고 cpu에서 처리한다. "
   ]
  },
  {
   "cell_type": "markdown",
   "id": "b4a7445b",
   "metadata": {},
   "source": [
    "#### open은 연결의 개념<br>f = open('경로\",'w')    # 'w' = write mode , 'r' = 'read mode<br> f.write('Hello World!')      #파일에 문자를 쓴다<br>f.close()    #파일을 닫는다.(파일을 닫기 전까지는 운영체제에서 다른 프로그램의 접근을 차단한다)"
   ]
  },
  {
   "cell_type": "markdown",
   "id": "8864b5d8",
   "metadata": {},
   "source": [
    "#### open('파일이름', '오픈모드',encoding = UTF-8 인코딩형식지정가능)<br>만약 지정된 경로가 없으면 디폴트 경로는 파이썬 스크립트 파일 "
   ]
  },
  {
   "cell_type": "markdown",
   "id": "7917e848",
   "metadata": {},
   "source": [
    "#### mode : r, w, a, x, +<br> file mode : t,b"
   ]
  },
  {
   "cell_type": "markdown",
   "id": "20d1ac79",
   "metadata": {},
   "source": [
    "#### file읽기 <br>f = open('경로\",'r')<br>s = f.read(5)  #읽어오면 string 형, 5는 5byte수 만큼만 읽어온다<br> print(s)<br>f.close()"
   ]
  },
  {
   "cell_type": "markdown",
   "id": "822727e2",
   "metadata": {},
   "source": [
    "#### readline메소드 : 줄을 기준으로 읽는다 <br> .read() 는 파일 전체를 읽어온다"
   ]
  },
  {
   "cell_type": "markdown",
   "id": "1cc6105c",
   "metadata": {},
   "source": [
    "#### append모드 : 기존 파일의 뒤에 새로운 내용 생성<br>"
   ]
  },
  {
   "cell_type": "markdown",
   "id": "9cd87bf5",
   "metadata": {},
   "source": [
    "### 예제) 파일을 쓰기모드로 열고 사용자로부터 n개의 정수를 입력받고 저장하기<br>입력하는 자료가 비어있다면 입력 끝<br>파일을 읽어서 합과 평균을 출력"
   ]
  },
  {
   "cell_type": "code",
   "execution_count": 8,
   "id": "0e4cf503",
   "metadata": {},
   "outputs": [
    {
     "name": "stdout",
     "output_type": "stream",
     "text": [
      "정수를 입력하세요: 10\n",
      "정수를 입력하세요: 20\n",
      "정수를 입력하세요: 30\n",
      "정수를 입력하세요: 40\n",
      "정수를 입력하세요: 50\n",
      "정수를 입력하세요: \n",
      "5개의 숫자의 합 = 150, 평균 = 30.0\n"
     ]
    }
   ],
   "source": [
    "#파일을 쓰기모드로 열고 사용자로부터 n개의 정수를 입력받고 저장\n",
    "#단 입력하는 자료가 없다면 입력종료\n",
    "f = open('data.txt','w')\n",
    "count = 0 #정수의 개수\n",
    "\n",
    "while True:\n",
    "    n = input(\"정수를 입력하세요: \")\n",
    "    if n=='': #아무것도 입력할지 않았을때\n",
    "        break\n",
    "    f.write(n)\n",
    "    f.write('\\n')\n",
    "    count+=1\n",
    "\n",
    "f.close()\n",
    "\n",
    "#n개의 정수가 저장된 파일을 읽어서 합과 평균을 계산 \n",
    "f = open('data.txt','r')\n",
    "su = 0 #합계\n",
    "for _ in range(count):\n",
    "    n = int(f.readline())\n",
    "    su += n \n",
    "    \n",
    "print(\"{}개의 숫자의 합 = {}, 평균 = {}\".format(count,su,su/count))\n",
    "f.close()"
   ]
  },
  {
   "cell_type": "markdown",
   "id": "6ed40a76",
   "metadata": {},
   "source": [
    "### + with as, exception"
   ]
  },
  {
   "cell_type": "code",
   "execution_count": 20,
   "id": "9cc3d7c8",
   "metadata": {},
   "outputs": [
    {
     "name": "stdout",
     "output_type": "stream",
     "text": [
      "정수를 입력하세요: 10\n",
      "정수를 입력하세요: 20\n",
      "정수를 입력하세요: 30\n",
      "정수를 입력하세요: \n",
      "3개의 숫자의 합 = 60, 평균 = 20.0\n"
     ]
    }
   ],
   "source": [
    "#파일을 쓰기모드로 열고 사용자로부터 n개의 정수를 입력받고 저장\n",
    "#단 입력하는 자료가 없다면 입력종료\n",
    "\n",
    "import sys\n",
    "try:\n",
    "    with open('data.txt','w') as f:\n",
    "        count = 0 #정수의 개수\n",
    "\n",
    "        while True:\n",
    "            n = input(\"정수를 입력하세요: \")\n",
    "            if n=='': #아무것도 입력할지 않았을때\n",
    "                break\n",
    "            f.write(n)\n",
    "            f.write('\\n')\n",
    "            count+=1\n",
    "            \n",
    "    #n개의 정수가 저장된 파일을 읽어서 합과 평균을 계산 \n",
    "    with open('data.txt','r') as f:\n",
    "        su = 0 #합계\n",
    "        for _ in range(count):\n",
    "            n = int(f.readline())\n",
    "            su += n \n",
    "        \n",
    "        print(\"{}개의 숫자의 합 = {}, 평균 = {}\".format(count,su,su/count))\n",
    "        \n",
    "except IOError:\n",
    "    print('Could not read file:',f)\n",
    "except:\n",
    "    print('Unexcepter errer:',sys.exc_info()[0])\n"
   ]
  },
  {
   "cell_type": "markdown",
   "id": "561d78ea",
   "metadata": {},
   "source": [
    "#### 파일복사: 버퍼쪽에서 파일을 읽어들이고 새로운 곳으로 이동, 이후 원본파일을 cut하면 잘라내기"
   ]
  },
  {
   "cell_type": "markdown",
   "id": "b0803c96",
   "metadata": {},
   "source": [
    "### with as 문법 "
   ]
  },
  {
   "cell_type": "markdown",
   "id": "3508c980",
   "metadata": {},
   "source": [
    "#### with ~ as 를 사용할때 파일쓰기가 완료되면 자동으로 f.close가 수행된다.   >> 굳이 close문장을 쓸 필요가 없어진다<br>웹페이지를 열때도 urlopen과 함께 사용한다."
   ]
  },
  {
   "cell_type": "code",
   "execution_count": null,
   "id": "59700dab",
   "metadata": {},
   "outputs": [],
   "source": []
  }
 ],
 "metadata": {
  "kernelspec": {
   "display_name": "Python 3 (ipykernel)",
   "language": "python",
   "name": "python3"
  },
  "language_info": {
   "codemirror_mode": {
    "name": "ipython",
    "version": 3
   },
   "file_extension": ".py",
   "mimetype": "text/x-python",
   "name": "python",
   "nbconvert_exporter": "python",
   "pygments_lexer": "ipython3",
   "version": "3.11.4"
  }
 },
 "nbformat": 4,
 "nbformat_minor": 5
}
